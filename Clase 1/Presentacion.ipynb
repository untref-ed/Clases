{
 "cells": [
  {
   "cell_type": "markdown",
   "id": "93daa914-b52a-44f2-b820-a51afb3a39ca",
   "metadata": {
    "editable": true,
    "jp-MarkdownHeadingCollapsed": true,
    "slideshow": {
     "slide_type": "slide"
    },
    "tags": []
   },
   "source": [
    "<center>\n",
    "    \n",
    "#### Universidad Nacional de Tres de Febrero\n",
    "### Estructura de Datos\n",
    "## Presentación de la Materia\n",
    "\n",
    "</center>"
   ]
  },
  {
   "cell_type": "markdown",
   "id": "485d9a6d-645e-41c2-b7bb-88bc1ed7f689",
   "metadata": {
    "editable": true,
    "jp-MarkdownHeadingCollapsed": true,
    "slideshow": {
     "slide_type": "slide"
    },
    "tags": []
   },
   "source": [
    "## Docentes\n",
    "\n",
    "- Martín Albarracín Franzone <mafranzone@untref.edu.ar>\n",
    "- Valeria Becker <'vbecker@untref.edu.ar'>\n",
    "- Santiago Rojo <'tiagox@gmail.com'>"
   ]
  },
  {
   "cell_type": "markdown",
   "id": "ce88e36f-2f2e-4ceb-bfdc-de843e9184cc",
   "metadata": {
    "editable": true,
    "slideshow": {
     "slide_type": "slide"
    },
    "tags": []
   },
   "source": [
    "## Herramientas para Cursar\n",
    "\n",
    "- Google Classroom - 'xoehksu'\n",
    "- Slack\n",
    "- Python\n",
    "- Jupyter"
   ]
  },
  {
   "cell_type": "markdown",
   "id": "8054d4ca-3c44-4898-9ccd-3ed207acd71b",
   "metadata": {
    "editable": true,
    "slideshow": {
     "slide_type": "slide"
    },
    "tags": []
   },
   "source": [
    "## Modalidad de cursada y aprobación\n",
    "\n"
   ]
  },
  {
   "cell_type": "code",
   "execution_count": null,
   "id": "89087258-d5c6-4ac2-b714-f23c6c753185",
   "metadata": {
    "editable": true,
    "slideshow": {
     "slide_type": ""
    },
    "tags": []
   },
   "outputs": [],
   "source": []
  }
 ],
 "metadata": {
  "kernelspec": {
   "display_name": "Python 3 (ipykernel)",
   "language": "python",
   "name": "python3"
  },
  "language_info": {
   "codemirror_mode": {
    "name": "ipython",
    "version": 3
   },
   "file_extension": ".py",
   "mimetype": "text/x-python",
   "name": "python",
   "nbconvert_exporter": "python",
   "pygments_lexer": "ipython3",
   "version": "3.12.3"
  }
 },
 "nbformat": 4,
 "nbformat_minor": 5
}
