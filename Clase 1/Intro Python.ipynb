{
 "cells": [
  {
   "cell_type": "markdown",
   "metadata": {
    "editable": true,
    "id": "4vzOkTwRYIb9",
    "jp-MarkdownHeadingCollapsed": true,
    "slideshow": {
     "slide_type": ""
    },
    "tags": []
   },
   "source": [
    "<center>\n",
    "    \n",
    "#### Universidad Nacional de Tres de Febrero\n",
    "### Estructura de Datos\n",
    "## Presentación de Python\n",
    "\n",
    "</center>"
   ]
  },
  {
   "cell_type": "markdown",
   "metadata": {
    "editable": true,
    "id": "T9lRQOiSTqNX",
    "slideshow": {
     "slide_type": ""
    },
    "tags": []
   },
   "source": [
    "## Python\n",
    "\n",
    "Python es un lenguaje de programación multipropósito, creado a fines de los 80 por [Guido van Rossum](https://es.wikipedia.org/wiki/Guido_van_Rossum).\n",
    "\n",
    "\n",
    "> *Van Rossum es el principal autor de Python, y su continuo rol central en decidir la dirección de Python es reconocido, refiriéndose a él como Benevolente Dictador Vitalicio (en inglés: Benevolent Dictator for Life, BDFL); sin embargo el 12 de julio de 2018 declinó de dicha situación de honor sin dejar un sucesor o sucesora*\n",
    ">\n",
    "> Fuente: [Wikipedia](https://es.wikipedia.org/wiki/Python)\n",
    "\n",
    "\n"
   ]
  },
  {
   "cell_type": "markdown",
   "metadata": {
    "editable": true,
    "id": "clBzgymRYIb_",
    "slideshow": {
     "slide_type": ""
    },
    "tags": []
   },
   "source": [
    "**Python** es un lenguaje de programación ***fuertemente tipado, orientado a objetos, introspectivo y reflexivo, imperativo y funcional***."
   ]
  },
  {
   "cell_type": "markdown",
   "metadata": {
    "editable": true,
    "id": "9gj7fFcKYIdX",
    "slideshow": {
     "slide_type": ""
    },
    "tags": []
   },
   "source": [
    "## Fuertemente tipado y dinámico"
   ]
  },
  {
   "cell_type": "markdown",
   "metadata": {
    "editable": true,
    "id": "sc3wL7INYIcA",
    "slideshow": {
     "slide_type": ""
    },
    "tags": []
   },
   "source": [
    "### Orientación a Objetos"
   ]
  },
  {
   "cell_type": "markdown",
   "metadata": {},
   "source": [
    "#### Clases y Objetos:\n",
    "\n",
    "Una clase en Python es una estructura de programación que permite definir un conjunto de **métodos y atributos** que describen un objeto o entidad. Las clases son un concepto fundamental en la programación orientada a objetos, que se utilizan para modelar entidades del mundo real o abstracto en un programa de computadora. Con los atributos podemos mantener el estado del objeto y con los métodos podemos definir su comportamiento, es decir, los mensajes que puede comprender y ejecutar.\n",
    "\n",
    "**Un objeto es una instancia viva** de una clase, una instancia en memoria, que posee su propio estado. "
   ]
  },
  {
   "cell_type": "markdown",
   "metadata": {},
   "source": [
    "#### Herencia y Polimorfismo:\n",
    "\n",
    "La herencia permite que una clase herede atributos y métodos de otra clase. El polimorfismo permite que una clase descendiente comparta el mismo nombre de método que su clase principal y proporcione una implementación diferente de ese método.\n",
    "\n",
    "Python además soporta **_herencia múltiple_**. Es decir que una clase extienda o herede de más de una clase ancestro"
   ]
  },
  {
   "cell_type": "markdown",
   "metadata": {
    "editable": true,
    "id": "Tk-s2G_rc2Ok",
    "slideshow": {
     "slide_type": ""
    },
    "tags": []
   },
   "source": [
    "<center>\n",
    "<div><img width=\"640\" src=\"data:image/svg+xml;base64,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\" /></div>\n",
    "</center>"
   ]
  },
  {
   "cell_type": "code",
   "execution_count": 3,
   "metadata": {
    "id": "1ofhqvv0YIcC"
   },
   "outputs": [],
   "source": [
    "class Persona(object):\n",
    "    def __init__(self, dni, nombre, apellido):\n",
    "        \"\"\"Constructor de clase Persona\"\"\"\n",
    "        self.dni = dni\n",
    "        self.nombre = nombre\n",
    "        self.apellido = apellido\n",
    "\n",
    "        print(self.nombre, \"es una persona con dni\", self.dni)\n",
    "\n",
    "\n",
    "class Docente(Persona):\n",
    "    def __init__(self, dni, nombre, apellido, legajo):\n",
    "        \"\"\"Constructor de clase Docente\"\"\"\n",
    "        super().__init__(dni, nombre, apellido)\n",
    "        self.legajo = legajo\n",
    "\n",
    "        print(self.nombre, \"es docente con legajo\", self.legajo)\n",
    "\n",
    "    def pagar(self):\n",
    "        print(self.legajo, self.nombre, \"pagado\")\n",
    "\n",
    "\n",
    "class Estudiante(Persona):\n",
    "    def __init__(self, dni, nombre, apellido, legajo):\n",
    "        \"\"\"Constructor de clase Estudiante\"\"\"\n",
    "        super().__init__(dni, nombre, apellido)\n",
    "        self.legajo = legajo\n",
    "\n",
    "        print(nombre, \"es estudiante con legajo\", legajo)\n",
    "\n",
    "\n",
    "class Ayudante(Docente, Estudiante):\n",
    "    def __init__(self, dni, nombre, apellido, legajo):\n",
    "        \"\"\"Constructor de clase Ayudante\"\"\"\n",
    "        Estudiante.__init__(self, dni, nombre, apellido, legajo)\n",
    "\n",
    "        print(self.nombre, \"es Ayudante\")"
   ]
  },
  {
   "cell_type": "markdown",
   "metadata": {},
   "source": [
    "> `self` es una referencia a si mismo, es decir al objeto en memoria que ejecuta el método"
   ]
  },
  {
   "cell_type": "code",
   "execution_count": 4,
   "metadata": {
    "id": "Ue_-1zeZYIcH"
   },
   "outputs": [
    {
     "name": "stdout",
     "output_type": "stream",
     "text": [
      "Valeria es una persona con dni 31.125.147\n",
      "Valeria es docente con legajo 12458\n"
     ]
    }
   ],
   "source": [
    "valeria = Docente(\"31.125.147\", \"Valeria\", \"Becker\", 12458)"
   ]
  },
  {
   "cell_type": "code",
   "execution_count": 5,
   "metadata": {
    "collapsed": true,
    "id": "OqRveNQ9YIcN",
    "jupyter": {
     "outputs_hidden": true
    }
   },
   "outputs": [
    {
     "name": "stdout",
     "output_type": "stream",
     "text": [
      "Juan es una persona con dni 39.147.157\n",
      "Juan es estudiante con legajo 47655\n"
     ]
    }
   ],
   "source": [
    "juan = Estudiante(\"39.147.157\", \"Juan\", \"Perez\", 47655)"
   ]
  },
  {
   "cell_type": "code",
   "execution_count": 6,
   "metadata": {
    "collapsed": true,
    "id": "aVa-HXeqYIcS",
    "jupyter": {
     "outputs_hidden": true
    }
   },
   "outputs": [
    {
     "name": "stdout",
     "output_type": "stream",
     "text": [
      "Santiago es una persona con dni 32.147.158\n",
      "Santiago es estudiante con legajo 14785\n",
      "Santiago es Ayudante\n"
     ]
    }
   ],
   "source": [
    "santi = Ayudante(\"32.147.158\", \"Santiago\", \"Rojo\", 14785)"
   ]
  },
  {
   "cell_type": "code",
   "execution_count": 7,
   "metadata": {
    "collapsed": true,
    "id": "p03v8aGaYIcW",
    "jupyter": {
     "outputs_hidden": true
    }
   },
   "outputs": [
    {
     "name": "stdout",
     "output_type": "stream",
     "text": [
      "12458 Valeria pagado\n"
     ]
    }
   ],
   "source": [
    "valeria.pagar()"
   ]
  },
  {
   "cell_type": "code",
   "execution_count": 8,
   "metadata": {
    "collapsed": true,
    "id": "rmouPCr3ny0N",
    "jupyter": {
     "outputs_hidden": true
    }
   },
   "outputs": [
    {
     "name": "stdout",
     "output_type": "stream",
     "text": [
      "14785 Santiago pagado\n"
     ]
    }
   ],
   "source": [
    "santi.pagar()"
   ]
  },
  {
   "cell_type": "markdown",
   "metadata": {
    "id": "YdSs6G4qYIcb"
   },
   "source": [
    "### Introspección y Reflexión"
   ]
  },
  {
   "cell_type": "markdown",
   "metadata": {
    "id": "F8_ME3Augkzr"
   },
   "source": [
    "**Introspección** es la capacidad que tienen los objetos en Python de inspecionarse a si mismos en tiempo de ejecución.\n",
    "\n",
    "La **reflexión** va un paso más allá y permite que un objeto se modifique a si mismo o a otros objetos en tiempo de ejecución."
   ]
  },
  {
   "cell_type": "code",
   "execution_count": 9,
   "metadata": {
    "collapsed": true,
    "id": "hzDs-zatYIcc",
    "jupyter": {
     "outputs_hidden": true
    }
   },
   "outputs": [
    {
     "data": {
      "text/plain": [
       "True"
      ]
     },
     "execution_count": 9,
     "metadata": {},
     "output_type": "execute_result"
    }
   ],
   "source": [
    "isinstance(santi, Ayudante)"
   ]
  },
  {
   "cell_type": "code",
   "execution_count": 10,
   "metadata": {
    "collapsed": true,
    "id": "JZG5MsvuYIch",
    "jupyter": {
     "outputs_hidden": true
    }
   },
   "outputs": [
    {
     "data": {
      "text/plain": [
       "True"
      ]
     },
     "execution_count": 10,
     "metadata": {},
     "output_type": "execute_result"
    }
   ],
   "source": [
    "isinstance(santi, Estudiante)"
   ]
  },
  {
   "cell_type": "code",
   "execution_count": 11,
   "metadata": {
    "collapsed": true,
    "id": "d6W_w_5NYIcl",
    "jupyter": {
     "outputs_hidden": true
    }
   },
   "outputs": [
    {
     "data": {
      "text/plain": [
       "True"
      ]
     },
     "execution_count": 11,
     "metadata": {},
     "output_type": "execute_result"
    }
   ],
   "source": [
    "isinstance(santi, Docente)"
   ]
  },
  {
   "cell_type": "code",
   "execution_count": 12,
   "metadata": {
    "collapsed": true,
    "id": "ifFjdIbBYIcr",
    "jupyter": {
     "outputs_hidden": true
    }
   },
   "outputs": [
    {
     "data": {
      "text/plain": [
       "True"
      ]
     },
     "execution_count": 12,
     "metadata": {},
     "output_type": "execute_result"
    }
   ],
   "source": [
    "isinstance(santi, Persona)"
   ]
  },
  {
   "cell_type": "code",
   "execution_count": 13,
   "metadata": {
    "collapsed": true,
    "id": "bpy73mLeYIcv",
    "jupyter": {
     "outputs_hidden": true
    }
   },
   "outputs": [
    {
     "name": "stdout",
     "output_type": "stream",
     "text": [
      "dni : 32.147.158\n",
      "nombre : Santiago\n",
      "apellido : Rojo\n",
      "legajo : 14785\n"
     ]
    }
   ],
   "source": [
    "for atributo, valor in vars(santi).items():\n",
    "    print(atributo, \":\", valor)"
   ]
  },
  {
   "cell_type": "code",
   "execution_count": 14,
   "metadata": {
    "collapsed": true,
    "id": "6Rmq6SqdoJG3",
    "jupyter": {
     "outputs_hidden": true
    }
   },
   "outputs": [
    {
     "name": "stdout",
     "output_type": "stream",
     "text": [
      "Help on built-in function vars in module builtins:\n",
      "\n",
      "vars(...)\n",
      "    Show vars.\n",
      "\n",
      "    Without arguments, equivalent to locals().\n",
      "    With an argument, equivalent to object.__dict__.\n",
      "\n"
     ]
    }
   ],
   "source": [
    "help(vars)"
   ]
  },
  {
   "cell_type": "code",
   "execution_count": 15,
   "metadata": {
    "collapsed": true,
    "id": "at80rAGCYIcz",
    "jupyter": {
     "outputs_hidden": true
    }
   },
   "outputs": [],
   "source": [
    "delattr(santi, \"apellido\")"
   ]
  },
  {
   "cell_type": "code",
   "execution_count": 16,
   "metadata": {
    "collapsed": true,
    "id": "WbJiMKbXokGa",
    "jupyter": {
     "outputs_hidden": true
    }
   },
   "outputs": [
    {
     "name": "stdout",
     "output_type": "stream",
     "text": [
      "Help on built-in function delattr in module builtins:\n",
      "\n",
      "delattr(obj, name, /)\n",
      "    Deletes the named attribute from the given object.\n",
      "\n",
      "    delattr(x, 'y') is equivalent to ``del x.y``\n",
      "\n"
     ]
    }
   ],
   "source": [
    "help(delattr)"
   ]
  },
  {
   "cell_type": "code",
   "execution_count": 17,
   "metadata": {
    "collapsed": true,
    "id": "x4unQGwzYIc3",
    "jupyter": {
     "outputs_hidden": true
    }
   },
   "outputs": [
    {
     "name": "stdout",
     "output_type": "stream",
     "text": [
      "dni : 32.147.158\n",
      "nombre : Santiago\n",
      "legajo : 14785\n"
     ]
    }
   ],
   "source": [
    "for atributo, valor in vars(santi).items():\n",
    "    print(atributo, \":\", valor)"
   ]
  },
  {
   "cell_type": "markdown",
   "metadata": {
    "id": "obn7XyrLYIc6"
   },
   "source": [
    "### Imperativo"
   ]
  },
  {
   "cell_type": "markdown",
   "metadata": {
    "id": "nKKd-8yWwdLM"
   },
   "source": [
    "Las instrucciones se ejecutan una después de otra y se debe programar el flujo de ejecución."
   ]
  },
  {
   "cell_type": "code",
   "execution_count": 18,
   "metadata": {
    "collapsed": true,
    "id": "mC_W5UcBYIc7",
    "jupyter": {
     "outputs_hidden": true
    }
   },
   "outputs": [],
   "source": [
    "def quicksort(arreglo):\n",
    "    __quicksort(arreglo, 0, len(arreglo) - 1)\n",
    "\n",
    "\n",
    "def __quicksort(arreglo, ini, fin):\n",
    "    pivote = arreglo[ini]\n",
    "    i = ini\n",
    "    j = fin\n",
    "    aux = 0\n",
    "\n",
    "    while i < j:\n",
    "        while arreglo[i] <= pivote and i < j:\n",
    "            i += 1\n",
    "\n",
    "        while arreglo[j] > pivote:\n",
    "            j -= 1\n",
    "\n",
    "        if i < j:\n",
    "            aux = arreglo[i]\n",
    "            arreglo[i] = arreglo[j]\n",
    "            arreglo[j] = aux\n",
    "\n",
    "    arreglo[ini] = arreglo[j]\n",
    "    arreglo[j] = pivote\n",
    "\n",
    "    if ini < j - 1:\n",
    "        __quicksort(arreglo, ini, j - 1)\n",
    "\n",
    "    if j + 1 < fin:\n",
    "        __quicksort(arreglo, j + 1, fin)"
   ]
  },
  {
   "cell_type": "code",
   "execution_count": 19,
   "metadata": {
    "collapsed": true,
    "id": "913PLXAzYIc_",
    "jupyter": {
     "outputs_hidden": true
    }
   },
   "outputs": [
    {
     "data": {
      "text/plain": [
       "[-5, 2, 3, 4, 7, 7, 10]"
      ]
     },
     "execution_count": 19,
     "metadata": {},
     "output_type": "execute_result"
    }
   ],
   "source": [
    "arreglo=[10, -5, 4, 7, 3, 2, 7]\n",
    "\n",
    "quicksort(arreglo)\n",
    "\n",
    "arreglo"
   ]
  },
  {
   "cell_type": "markdown",
   "metadata": {
    "editable": true,
    "id": "8nXHHSGXYIdD",
    "slideshow": {
     "slide_type": ""
    },
    "tags": []
   },
   "source": [
    "### Funcional"
   ]
  },
  {
   "cell_type": "markdown",
   "metadata": {
    "id": "XcYFhhfbwoIm"
   },
   "source": [
    "La **programación funcional** es un paradigma de programación declarativo basado en el uso de funciones verdaderamente matemáticas. En este estilo de programación las funciones son **_ciudadanas de primera clase_**, porque sus expresiones pueden ser asignadas a variables como se haría con cualquier otro valor; además de que pueden crearse funciones de orden superior.\n",
    "\n",
    "En el paradigma funcional en general, y a diferencia del imperativo, la programación consiste en especificar el **Qué** y no el **Cómo** se resuelve."
   ]
  },
  {
   "cell_type": "markdown",
   "metadata": {
    "id": "xESKI9mXw7gv"
   },
   "source": [
    "#### Funciones de orden superior\n"
   ]
  },
  {
   "cell_type": "markdown",
   "metadata": {
    "id": "zXTScJbytlUQ"
   },
   "source": [
    "Una función puede:\n",
    "\n",
    "- ser asignada a una variable;\n",
    "- pasarse como parámetro;\n",
    "- ser retornada por otra función. Es decir podemos tener una *fábrica de funciones*."
   ]
  },
  {
   "cell_type": "code",
   "execution_count": 20,
   "metadata": {
    "collapsed": true,
    "id": "fWj9f2zLSunO",
    "jupyter": {
     "outputs_hidden": true
    }
   },
   "outputs": [],
   "source": [
    "def componer(f, g):\n",
    "    return lambda x: f(g(x))\n",
    "\n",
    "\n",
    "# De forma equivalente podemos escribir\n",
    "# def componer(f, g):\n",
    "#     def compuesto(x):\n",
    "#         return f(g(x))\n",
    "\n",
    "#     return compuesto"
   ]
  },
  {
   "cell_type": "code",
   "execution_count": 21,
   "metadata": {
    "collapsed": true,
    "id": "-Kz4-TcVSunO",
    "jupyter": {
     "outputs_hidden": true
    }
   },
   "outputs": [],
   "source": [
    "def sumar_3(x):\n",
    "    return x + 3"
   ]
  },
  {
   "cell_type": "code",
   "execution_count": 22,
   "metadata": {
    "collapsed": true,
    "id": "XUPWpGO5txI3",
    "jupyter": {
     "outputs_hidden": true
    }
   },
   "outputs": [
    {
     "data": {
      "text/plain": [
       "8"
      ]
     },
     "execution_count": 22,
     "metadata": {},
     "output_type": "execute_result"
    }
   ],
   "source": [
    "sumar_3(5)"
   ]
  },
  {
   "cell_type": "code",
   "execution_count": 23,
   "metadata": {
    "collapsed": true,
    "id": "ayVmDlgBYIdH",
    "jupyter": {
     "outputs_hidden": true
    }
   },
   "outputs": [],
   "source": [
    "sumar_6 = componer(sumar_3, sumar_3)"
   ]
  },
  {
   "cell_type": "code",
   "execution_count": 24,
   "metadata": {
    "collapsed": true,
    "id": "yPVwaVNut0FE",
    "jupyter": {
     "outputs_hidden": true
    }
   },
   "outputs": [
    {
     "data": {
      "text/plain": [
       "10"
      ]
     },
     "execution_count": 24,
     "metadata": {},
     "output_type": "execute_result"
    }
   ],
   "source": [
    "sumar_6(4)"
   ]
  },
  {
   "cell_type": "code",
   "execution_count": 25,
   "metadata": {
    "collapsed": true,
    "id": "g3zI0dGjYIdL",
    "jupyter": {
     "outputs_hidden": true
    }
   },
   "outputs": [],
   "source": [
    "def cuadrado(x):\n",
    "    return x * x"
   ]
  },
  {
   "cell_type": "code",
   "execution_count": 26,
   "metadata": {
    "collapsed": true,
    "id": "LFIlUN76ukfM",
    "jupyter": {
     "outputs_hidden": true
    }
   },
   "outputs": [],
   "source": [
    "sumar_3_elevar_al_cuadrado = componer(cuadrado, sumar_3)"
   ]
  },
  {
   "cell_type": "code",
   "execution_count": 27,
   "metadata": {
    "collapsed": true,
    "id": "OOXQMKZJunF0",
    "jupyter": {
     "outputs_hidden": true
    }
   },
   "outputs": [
    {
     "data": {
      "text/plain": [
       "36"
      ]
     },
     "execution_count": 27,
     "metadata": {},
     "output_type": "execute_result"
    }
   ],
   "source": [
    "sumar_3_elevar_al_cuadrado(3)"
   ]
  },
  {
   "cell_type": "markdown",
   "metadata": {
    "id": "-38aRt3MSunP"
   },
   "source": [
    "#### QuickSort en una línea"
   ]
  },
  {
   "cell_type": "code",
   "execution_count": 28,
   "metadata": {
    "collapsed": true,
    "id": "LiTZHkHPSunP",
    "jupyter": {
     "outputs_hidden": true
    }
   },
   "outputs": [],
   "source": [
    "q = lambda l: q([x for x in l[1:] if x <= l[0]]) + [l[0]] + q([x for x in l if x > l[0]]) if l else []"
   ]
  },
  {
   "cell_type": "code",
   "execution_count": 30,
   "metadata": {
    "collapsed": true,
    "id": "xa3n92Z8YIdT",
    "jupyter": {
     "outputs_hidden": true
    }
   },
   "outputs": [
    {
     "data": {
      "text/plain": [
       "[-5, 2, 3, 4, 7, 7, 10]"
      ]
     },
     "execution_count": 30,
     "metadata": {},
     "output_type": "execute_result"
    }
   ],
   "source": [
    "arreglo=[10, -5, 4, 7, 3, 2, 7]\n",
    "\n",
    "arreglo_ordenado = q(arreglo)\n",
    "\n",
    "assert arreglo_ordenado != arreglo\n",
    "\n",
    "arreglo_ordenado"
   ]
  },
  {
   "cell_type": "markdown",
   "metadata": {
    "id": "s2swosEdYIdX"
   },
   "source": [
    "**Fuertemente tipado** significa que no se pueden violar las restricciones de cada tipo de datos, por ejemplo no es posible sumar una cadena de caracteres y un entero."
   ]
  },
  {
   "cell_type": "code",
   "execution_count": 31,
   "metadata": {
    "collapsed": true,
    "id": "jWOa9FHlYIdY",
    "jupyter": {
     "outputs_hidden": true
    }
   },
   "outputs": [
    {
     "ename": "TypeError",
     "evalue": "can only concatenate str (not \"int\") to str",
     "output_type": "error",
     "traceback": [
      "\u001b[0;31m---------------------------------------------------------------------------\u001b[0m",
      "\u001b[0;31mTypeError\u001b[0m                                 Traceback (most recent call last)",
      "Cell \u001b[0;32mIn[31], line 1\u001b[0m\n\u001b[0;32m----> 1\u001b[0m prueba \u001b[38;5;241m=\u001b[39m \u001b[38;5;124;43m\"\u001b[39;49m\u001b[38;5;124;43mhola\u001b[39;49m\u001b[38;5;124;43m\"\u001b[39;49m\u001b[43m \u001b[49m\u001b[38;5;241;43m+\u001b[39;49m\u001b[43m \u001b[49m\u001b[38;5;241;43m5\u001b[39;49m\n",
      "\u001b[0;31mTypeError\u001b[0m: can only concatenate str (not \"int\") to str"
     ]
    }
   ],
   "source": [
    "prueba = \"hola\" + 5"
   ]
  },
  {
   "cell_type": "markdown",
   "metadata": {
    "id": "Aw__3UprYIdb"
   },
   "source": [
    "En general los lenguajes fuertemente tipados permiten _**castear**_ distintos tipos, pero de forma explícita"
   ]
  },
  {
   "cell_type": "code",
   "execution_count": 32,
   "metadata": {
    "collapsed": true,
    "id": "2CwaCd4AYIdc",
    "jupyter": {
     "outputs_hidden": true
    }
   },
   "outputs": [
    {
     "data": {
      "text/plain": [
       "'hola5'"
      ]
     },
     "execution_count": 32,
     "metadata": {},
     "output_type": "execute_result"
    }
   ],
   "source": [
    "prueba = \"hola\" + str(5)\n",
    "\n",
    "prueba"
   ]
  },
  {
   "cell_type": "markdown",
   "metadata": {
    "id": "F-nle2WPYIdf"
   },
   "source": [
    "**Tipado dinámico** significa que el tipo de una variable se determina en tiempo de ejecución y puede cambiar durante la ejecución."
   ]
  },
  {
   "cell_type": "code",
   "execution_count": 33,
   "metadata": {
    "id": "lErPGUILYIdf"
   },
   "outputs": [
    {
     "name": "stdout",
     "output_type": "stream",
     "text": [
      "hola\n",
      "5\n"
     ]
    }
   ],
   "source": [
    "x = \"hola\"\n",
    "\n",
    "print(x)\n",
    "\n",
    "x = 5\n",
    "\n",
    "print(x)"
   ]
  },
  {
   "cell_type": "markdown",
   "metadata": {
    "id": "6O4evRaAYIdi"
   },
   "source": [
    "No hay que confundir lenguajes fuertemente tipados con tipados estáticos o debilmente tipado con tipado dinámico.\n",
    "\n",
    "Un ejemplo de un lenguaje debilmente tipado (en oposición a los fuertemente tipados) puede ser *Javascript* que permite operaciones como `\"hola\" + 5`.\n",
    "\n",
    "Lo opuesto a tipado dinámico es tipado estático, en donde se debe declarar el tipo de todas las variables antes de poder usarlas, en tiempo de compilación, es decir antes de que el programa comience a ejecutarse.\n",
    "\n",
    "Existen lenguajes que son debilmente tipados y estáticos, por ejemplo *Modula*."
   ]
  },
  {
   "cell_type": "markdown",
   "metadata": {
    "editable": true,
    "id": "FKajmcIXSunS",
    "jp-MarkdownHeadingCollapsed": true,
    "slideshow": {
     "slide_type": ""
    },
    "tags": []
   },
   "source": [
    "## Ámbitos de ejecución"
   ]
  },
  {
   "cell_type": "markdown",
   "metadata": {
    "id": "2vzGD89ESunb"
   },
   "source": [
    "El ámbito de ejecución de una instrucción (*scope*) define un área donde se puede referir a un nombre (variable, función, objeto, etc.) en forma inequivoca.\n",
    "\n",
    "En Python tenemos al menos 4 ámbitos donde se buscará el identificador o el nombre que necesita para ejecutar la instrucción:\n",
    "\n",
    "<div><img width=\"800\" src=\"data:image/svg+xml;base64,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\" /></div>"
   ]
  },
  {
   "cell_type": "markdown",
   "metadata": {
    "id": "O9NxaNjJSunb"
   },
   "source": [
    "### Ámbito Local"
   ]
  },
  {
   "cell_type": "markdown",
   "metadata": {
    "id": "j2Y7lLJ11kbS"
   },
   "source": [
    "Los nombres usados dentro de una función solo son visibles dentro de la misma y ocultan nombres iguales definidos en otros ámbitos más externos."
   ]
  },
  {
   "cell_type": "code",
   "execution_count": 34,
   "metadata": {
    "collapsed": true,
    "id": "zbGbcVwcdYzd",
    "jupyter": {
     "outputs_hidden": true
    }
   },
   "outputs": [],
   "source": [
    "x = 3\n",
    "\n",
    "\n",
    "def f(y):\n",
    "    x = 4\n",
    "    return x + y"
   ]
  },
  {
   "cell_type": "code",
   "execution_count": 35,
   "metadata": {
    "collapsed": true,
    "id": "GdlSsQQ32ZYv",
    "jupyter": {
     "outputs_hidden": true
    }
   },
   "outputs": [
    {
     "data": {
      "text/plain": [
       "10"
      ]
     },
     "execution_count": 35,
     "metadata": {},
     "output_type": "execute_result"
    }
   ],
   "source": [
    "f(6)"
   ]
  },
  {
   "cell_type": "code",
   "execution_count": 36,
   "metadata": {
    "collapsed": true,
    "id": "7pYxyZIk2Zfi",
    "jupyter": {
     "outputs_hidden": true
    }
   },
   "outputs": [
    {
     "data": {
      "text/plain": [
       "3"
      ]
     },
     "execution_count": 36,
     "metadata": {},
     "output_type": "execute_result"
    }
   ],
   "source": [
    "x"
   ]
  },
  {
   "cell_type": "markdown",
   "metadata": {
    "id": "JAf64ox2d2r7"
   },
   "source": [
    "### Ámbito de ejecución de una función o Clausura de la función"
   ]
  },
  {
   "cell_type": "markdown",
   "metadata": {
    "id": "ioXLSdyv19Y_"
   },
   "source": [
    "Las referencias externas a una función se evalúan ***dinámicamente*** dentro del entorno donde se ejecutan."
   ]
  },
  {
   "cell_type": "code",
   "execution_count": 40,
   "metadata": {
    "collapsed": true,
    "id": "Q3ZhH4udSunc",
    "jupyter": {
     "outputs_hidden": true
    }
   },
   "outputs": [],
   "source": [
    "x = 4\n",
    "\n",
    "\n",
    "def sumar_4(y):\n",
    "    return x + y"
   ]
  },
  {
   "cell_type": "code",
   "execution_count": 41,
   "metadata": {
    "collapsed": true,
    "id": "VpFcDN42Sunc",
    "jupyter": {
     "outputs_hidden": true
    }
   },
   "outputs": [
    {
     "data": {
      "text/plain": [
       "10"
      ]
     },
     "execution_count": 41,
     "metadata": {},
     "output_type": "execute_result"
    }
   ],
   "source": [
    "sumar_4(6)"
   ]
  },
  {
   "cell_type": "code",
   "execution_count": 42,
   "metadata": {
    "collapsed": true,
    "id": "FgFFQuNpSunc",
    "jupyter": {
     "outputs_hidden": true
    }
   },
   "outputs": [
    {
     "data": {
      "text/plain": [
       "'Estructuras de Datos UNTREF '"
      ]
     },
     "execution_count": 42,
     "metadata": {},
     "output_type": "execute_result"
    }
   ],
   "source": [
    "x = \"Estructuras de Datos\"\n",
    "\n",
    "sumar_4(\" UNTREF \")"
   ]
  },
  {
   "cell_type": "markdown",
   "metadata": {
    "id": "AMwLJle6eQH_"
   },
   "source": [
    "Si deseo que `sumar_4` a siempre sume 4 independientemente del entorno en que se ejecute podemos usar funciones anidadas."
   ]
  },
  {
   "cell_type": "code",
   "execution_count": 43,
   "metadata": {
    "collapsed": true,
    "id": "RC-Avg5mAjPk",
    "jupyter": {
     "outputs_hidden": true
    }
   },
   "outputs": [],
   "source": [
    "def fabrica_incrementos(incremento):\n",
    "    return lambda x: x + incremento\n",
    "\n",
    "\n",
    "# def fabrica_incrementos(incremento):\n",
    "#     def incrementar(x):\n",
    "#         return x + incremento\n",
    "\n",
    "#     return incrementar\n",
    "\n",
    "\n",
    "sumar_4 = fabrica_incrementos(4)"
   ]
  },
  {
   "cell_type": "code",
   "execution_count": 44,
   "metadata": {
    "collapsed": true,
    "id": "xP7MWcIIAjPn",
    "jupyter": {
     "outputs_hidden": true
    }
   },
   "outputs": [
    {
     "data": {
      "text/plain": [
       "10"
      ]
     },
     "execution_count": 44,
     "metadata": {},
     "output_type": "execute_result"
    }
   ],
   "source": [
    "sumar_4(6)"
   ]
  },
  {
   "cell_type": "code",
   "execution_count": 45,
   "metadata": {
    "collapsed": true,
    "id": "crXIgZLtAjPq",
    "jupyter": {
     "outputs_hidden": true
    }
   },
   "outputs": [
    {
     "data": {
      "text/plain": [
       "10"
      ]
     },
     "execution_count": 45,
     "metadata": {},
     "output_type": "execute_result"
    }
   ],
   "source": [
    "incremento = 10\n",
    "\n",
    "sumar_4(6)"
   ]
  },
  {
   "cell_type": "markdown",
   "metadata": {
    "id": "aDoDghY_AjPu"
   },
   "source": [
    "Otro ejemplo de cómo empaquetar datos en el entorno de ejecución de una función:"
   ]
  },
  {
   "cell_type": "code",
   "execution_count": 46,
   "metadata": {
    "collapsed": true,
    "id": "6bjYAMkZAjPw",
    "jupyter": {
     "outputs_hidden": true
    }
   },
   "outputs": [],
   "source": [
    "def cifrar_mensaje(msj, password):\n",
    "    return lambda x: msj if x == password else None"
   ]
  },
  {
   "cell_type": "code",
   "execution_count": 47,
   "metadata": {
    "collapsed": true,
    "id": "Dljpo8ag3awW",
    "jupyter": {
     "outputs_hidden": true
    }
   },
   "outputs": [],
   "source": [
    "descifrar = cifrar_mensaje(\"hola como están\", 1245)"
   ]
  },
  {
   "cell_type": "code",
   "execution_count": 48,
   "metadata": {
    "collapsed": true,
    "id": "QxUHjjby3aiF",
    "jupyter": {
     "outputs_hidden": true
    }
   },
   "outputs": [],
   "source": [
    "descifrar(\"clave incorrecta\")"
   ]
  },
  {
   "cell_type": "code",
   "execution_count": 49,
   "metadata": {
    "collapsed": true,
    "id": "y9Hjiv7M3aa3",
    "jupyter": {
     "outputs_hidden": true
    }
   },
   "outputs": [
    {
     "data": {
      "text/plain": [
       "'hola como están'"
      ]
     },
     "execution_count": 49,
     "metadata": {},
     "output_type": "execute_result"
    }
   ],
   "source": [
    "descifrar(1245)"
   ]
  },
  {
   "cell_type": "markdown",
   "metadata": {
    "id": "Yf9hCWdbAjP0"
   },
   "source": [
    "### Ámbito Global"
   ]
  },
  {
   "cell_type": "markdown",
   "metadata": {
    "id": "zFaEHCcb3nYL"
   },
   "source": [
    "Es el ámbito global a todo el código, las variables declaradas fuera de toda función son globales a todo el código. En general no es una buena práctica usar variables globales, porque pueden hacer el código más dificil de seguir, puede afectar el comportamiento de funciones como vimos en el punto anterior y las variables en este ámbito pueden quedar ocultas por variables locales.\n",
    "\n",
    "Python cuenta con módulos y cada módulo define un espacio de nombres, donde se pueden definir constantes y usar el nombre completo para referirse a una constante"
   ]
  },
  {
   "cell_type": "code",
   "execution_count": 50,
   "metadata": {
    "collapsed": true,
    "id": "AZm9M9usAjP1",
    "jupyter": {
     "outputs_hidden": true
    }
   },
   "outputs": [
    {
     "data": {
      "text/plain": [
       "3.141592653589793"
      ]
     },
     "execution_count": 50,
     "metadata": {},
     "output_type": "execute_result"
    }
   ],
   "source": [
    "import math\n",
    "\n",
    "# Otra forma es importando solo lo que vamos a usar\n",
    "# from math import pi\n",
    "\n",
    "# En este caso no hace falta usar el nombre completo y se puede usar directamente `pi`.\n",
    "\n",
    "def area_circulo(radio):\n",
    "    return math.pi * radio * radio\n",
    "\n",
    "\n",
    "area_circulo(1)"
   ]
  },
  {
   "cell_type": "markdown",
   "metadata": {
    "id": "3JC3y6bAAjP4"
   },
   "source": [
    "En el ámbito local se puede usar la palabra reservada `global` para poder modificar la variable global dentro de una función. No es recomendable que las funciones tengan efectos colaterales, salvo casos muy controlados."
   ]
  },
  {
   "cell_type": "code",
   "execution_count": 51,
   "metadata": {
    "collapsed": true,
    "id": "gMvgFAIpAjP4",
    "jupyter": {
     "outputs_hidden": true
    }
   },
   "outputs": [],
   "source": [
    "incremento = 5\n",
    "\n",
    "\n",
    "def incrementar_4(x):\n",
    "    global incremento\n",
    "    incremento = 4\n",
    "    return x + incremento"
   ]
  },
  {
   "cell_type": "code",
   "execution_count": 52,
   "metadata": {
    "collapsed": true,
    "id": "XMQOT5lz0rYi",
    "jupyter": {
     "outputs_hidden": true
    }
   },
   "outputs": [
    {
     "data": {
      "text/plain": [
       "10"
      ]
     },
     "execution_count": 52,
     "metadata": {},
     "output_type": "execute_result"
    }
   ],
   "source": [
    "incrementar_4(6)"
   ]
  },
  {
   "cell_type": "code",
   "execution_count": 53,
   "metadata": {
    "collapsed": true,
    "id": "-8S_Ofir0sEH",
    "jupyter": {
     "outputs_hidden": true
    }
   },
   "outputs": [
    {
     "data": {
      "text/plain": [
       "4"
      ]
     },
     "execution_count": 53,
     "metadata": {},
     "output_type": "execute_result"
    }
   ],
   "source": [
    "incremento"
   ]
  },
  {
   "cell_type": "markdown",
   "metadata": {
    "id": "OyeiV-FbAjP7"
   },
   "source": [
    "### Ámbito Built-in"
   ]
  },
  {
   "cell_type": "markdown",
   "metadata": {
    "id": "Aa0XJjHs4oVa"
   },
   "source": [
    "Es el ámbito donde se encuentran las palabras reservadas de Python. No se pueden sobrecargar, salvo algunos operadores."
   ]
  },
  {
   "cell_type": "code",
   "execution_count": 54,
   "metadata": {
    "collapsed": true,
    "id": "ZfHJ-ev5AjP_",
    "jupyter": {
     "outputs_hidden": true
    }
   },
   "outputs": [],
   "source": [
    "class Punto:\n",
    "    def __init__(self, coord_x=0, coord_y=0):\n",
    "        \"\"\"Constructor de la clase punto, por defecto construye\n",
    "        el punto en el origen\"\"\"\n",
    "        self.x = coord_x\n",
    "        self.y = coord_y\n",
    "\n",
    "    def mover(self, incremento_x, incremento_y):\n",
    "        self.x += incremento_x\n",
    "        self.y += incremento_y\n",
    "\n",
    "    def __add__(self, otro_punto):\n",
    "        return Punto(self.x + otro_punto.x, self.y + otro_punto.y)\n",
    "\n",
    "    def __str__(self):\n",
    "        \"\"\"Para imprimir un punto con print\"\"\"\n",
    "        return \"(%d, %d)\" % (self.x, self.y)"
   ]
  },
  {
   "cell_type": "code",
   "execution_count": 55,
   "metadata": {
    "collapsed": true,
    "id": "E0Xxqb_jAjQC",
    "jupyter": {
     "outputs_hidden": true
    }
   },
   "outputs": [
    {
     "name": "stdout",
     "output_type": "stream",
     "text": [
      "(1, 1) (2, 2) (3, 3)\n"
     ]
    }
   ],
   "source": [
    "p1 = Punto(1, 1)\n",
    "p2 = Punto(2, 2)\n",
    "\n",
    "p3 = p1 + p2\n",
    "\n",
    "print(p1, p2, p3)"
   ]
  },
  {
   "cell_type": "markdown",
   "metadata": {
    "id": "iJ-XYt3hSunf"
   },
   "source": [
    "## Pasaje de parámetros en Python"
   ]
  },
  {
   "cell_type": "markdown",
   "metadata": {
    "id": "hRnjYNat6aDS"
   },
   "source": [
    "Python tiene distintas formas de pasar parámetros a una función."
   ]
  },
  {
   "cell_type": "code",
   "execution_count": 56,
   "metadata": {
    "collapsed": true,
    "id": "_Us9_zo36ixy",
    "jupyter": {
     "outputs_hidden": true
    }
   },
   "outputs": [],
   "source": [
    "def funcion(posicionales, nombrados, *posicionales_variables, **nombrados_variables):\n",
    "    pass"
   ]
  },
  {
   "cell_type": "markdown",
   "metadata": {
    "id": "jx0Yl2OMfT3O"
   },
   "source": [
    "### Parámetros posicionales"
   ]
  },
  {
   "cell_type": "markdown",
   "metadata": {
    "id": "qToMzA2X6shJ"
   },
   "source": [
    "De acuerdo a la posición en que se pasan los parámetros se ligan con los argumentos de una función."
   ]
  },
  {
   "cell_type": "code",
   "execution_count": 57,
   "metadata": {
    "collapsed": true,
    "id": "JwGKxIZSSunf",
    "jupyter": {
     "outputs_hidden": true
    }
   },
   "outputs": [],
   "source": [
    "def concatenar(cadena1, cadena2):\n",
    "    return cadena1 + cadena2"
   ]
  },
  {
   "cell_type": "code",
   "execution_count": 58,
   "metadata": {
    "collapsed": true,
    "id": "Tqp1Vbyj638K",
    "jupyter": {
     "outputs_hidden": true
    }
   },
   "outputs": [
    {
     "data": {
      "text/plain": [
       "'Hola mundo'"
      ]
     },
     "execution_count": 58,
     "metadata": {},
     "output_type": "execute_result"
    }
   ],
   "source": [
    "concatenar(\"Hola \", \"mundo\")"
   ]
  },
  {
   "cell_type": "code",
   "execution_count": 59,
   "metadata": {
    "collapsed": true,
    "id": "D53uvojM63xg",
    "jupyter": {
     "outputs_hidden": true
    }
   },
   "outputs": [
    {
     "data": {
      "text/plain": [
       "'mundoHola '"
      ]
     },
     "execution_count": 59,
     "metadata": {},
     "output_type": "execute_result"
    }
   ],
   "source": [
    "concatenar(\"mundo\", \"Hola \")"
   ]
  },
  {
   "cell_type": "markdown",
   "metadata": {
    "id": "W8YVeT7Bff4S"
   },
   "source": [
    "### Parámetros nombrados"
   ]
  },
  {
   "cell_type": "markdown",
   "metadata": {
    "id": "wPM9F3uh7Ijp"
   },
   "source": [
    "Se pueden nombrar los parámetros al momento de invocar una función, y de esa forma no importa en orden en que se pasan."
   ]
  },
  {
   "cell_type": "code",
   "execution_count": 60,
   "metadata": {
    "collapsed": true,
    "id": "qZsItD6gSung",
    "jupyter": {
     "outputs_hidden": true
    }
   },
   "outputs": [
    {
     "data": {
      "text/plain": [
       "'Hola mundo'"
      ]
     },
     "execution_count": 60,
     "metadata": {},
     "output_type": "execute_result"
    }
   ],
   "source": [
    "concatenar(cadena2=\"mundo\", cadena1=\"Hola \")"
   ]
  },
  {
   "cell_type": "markdown",
   "metadata": {
    "id": "U5qOBXX7fo8s"
   },
   "source": [
    "### Parámetros por defecto"
   ]
  },
  {
   "cell_type": "markdown",
   "metadata": {
    "id": "-8yblJRc7VGq"
   },
   "source": [
    "Los parámetros con valores por defecto siempre se ubican después de los parámetros posicionales, y permiten definir un valor por defecto tal que si se omite el parámetro en la invocación toma el valor por defecto."
   ]
  },
  {
   "cell_type": "code",
   "execution_count": 61,
   "metadata": {
    "collapsed": true,
    "id": "OXPUJ3ikSung",
    "jupyter": {
     "outputs_hidden": true
    }
   },
   "outputs": [],
   "source": [
    "class Persona:\n",
    "    def __init__(self, nombre, apellido, segundo_nombre=\"\"):\n",
    "        self.nombre = nombre\n",
    "        self.segundo_nombre = segundo_nombre\n",
    "        self.apellido = apellido\n",
    "\n",
    "    def __str__(self):\n",
    "        return self.apellido + \", \" + self.nombre + \" \" + self.segundo_nombre"
   ]
  },
  {
   "cell_type": "code",
   "execution_count": 62,
   "metadata": {
    "collapsed": true,
    "id": "wzld2Zg6Sung",
    "jupyter": {
     "outputs_hidden": true
    }
   },
   "outputs": [
    {
     "name": "stdout",
     "output_type": "stream",
     "text": [
      "Perez, Juan \n"
     ]
    }
   ],
   "source": [
    "p1 = Persona(\"Juan\", \"Perez\")\n",
    "\n",
    "print(p1)"
   ]
  },
  {
   "cell_type": "code",
   "execution_count": 63,
   "metadata": {
    "collapsed": true,
    "id": "lAU_LR-D7pbz",
    "jupyter": {
     "outputs_hidden": true
    }
   },
   "outputs": [
    {
     "name": "stdout",
     "output_type": "stream",
     "text": [
      "Perez, Juan Antonio\n"
     ]
    }
   ],
   "source": [
    "p2 = Persona( \"Juan\", \"Perez\", \"Antonio\")\n",
    "\n",
    "print(p2)"
   ]
  },
  {
   "cell_type": "code",
   "execution_count": 64,
   "metadata": {
    "collapsed": true,
    "id": "39EgZHkm7pUK",
    "jupyter": {
     "outputs_hidden": true
    }
   },
   "outputs": [
    {
     "name": "stdout",
     "output_type": "stream",
     "text": [
      "Perez, Juan Antonio\n"
     ]
    }
   ],
   "source": [
    "p3 = Persona(nombre=\"Juan\", segundo_nombre=\"Antonio\", apellido=\"Perez\")\n",
    "\n",
    "print(p3)"
   ]
  },
  {
   "cell_type": "code",
   "execution_count": 65,
   "metadata": {
    "collapsed": true,
    "id": "bl2QQnlv7pMo",
    "jupyter": {
     "outputs_hidden": true
    }
   },
   "outputs": [
    {
     "name": "stdout",
     "output_type": "stream",
     "text": [
      "Perez, Juan Antonio\n"
     ]
    }
   ],
   "source": [
    "p4 = Persona(\"Juan\", segundo_nombre=\"Antonio\", apellido= \"Perez\")\n",
    "\n",
    "print(p4)"
   ]
  },
  {
   "cell_type": "markdown",
   "metadata": {
    "id": "YDhzT25RAjQf"
   },
   "source": [
    "### Parámetros de longitud variable\n",
    "Pueden ser posicionales o nombrados, en el caso de los parámetros posicionales, Python los empaqueta en una tupla, tal que se puede manipular la misma dentro de la función y en el caso de parámetros nombrados variables, los encapsula en un diccionario."
   ]
  },
  {
   "cell_type": "code",
   "execution_count": 66,
   "metadata": {
    "collapsed": true,
    "id": "t5SnC1vAAjQg",
    "jupyter": {
     "outputs_hidden": true
    }
   },
   "outputs": [],
   "source": [
    "def sumatoria(*numeros):\n",
    "    suma = 0\n",
    "\n",
    "    print(f\"Se recibieron {len(numeros)} parametros\")\n",
    "\n",
    "    for num in numeros:\n",
    "        suma += num\n",
    "\n",
    "    return suma"
   ]
  },
  {
   "cell_type": "code",
   "execution_count": 67,
   "metadata": {
    "collapsed": true,
    "id": "bqid3bDX8L9M",
    "jupyter": {
     "outputs_hidden": true
    }
   },
   "outputs": [
    {
     "name": "stdout",
     "output_type": "stream",
     "text": [
      "Se recibieron 2 parametros\n"
     ]
    },
    {
     "data": {
      "text/plain": [
       "3"
      ]
     },
     "execution_count": 67,
     "metadata": {},
     "output_type": "execute_result"
    }
   ],
   "source": [
    "sumatoria(1, 2)"
   ]
  },
  {
   "cell_type": "code",
   "execution_count": 68,
   "metadata": {
    "collapsed": true,
    "id": "n5jeCubz8NGx",
    "jupyter": {
     "outputs_hidden": true
    }
   },
   "outputs": [
    {
     "name": "stdout",
     "output_type": "stream",
     "text": [
      "Se recibieron 9 parametros\n"
     ]
    },
    {
     "data": {
      "text/plain": [
       "45"
      ]
     },
     "execution_count": 68,
     "metadata": {},
     "output_type": "execute_result"
    }
   ],
   "source": [
    "sumatoria(1, 2, 3, 4, 5, 6, 7, 8, 9)"
   ]
  },
  {
   "cell_type": "code",
   "execution_count": 69,
   "metadata": {
    "collapsed": true,
    "id": "QifOgyiVAjQk",
    "jupyter": {
     "outputs_hidden": true
    }
   },
   "outputs": [],
   "source": [
    "def imprimir_datos(**datos):\n",
    "    print(\"`datos` es de tipo:\", type(datos))\n",
    "\n",
    "    for clave, valor in datos.items():\n",
    "        print(\"{} = {}\".format(clave, valor))"
   ]
  },
  {
   "cell_type": "code",
   "execution_count": 70,
   "metadata": {
    "collapsed": true,
    "id": "yFfki0yF8iNp",
    "jupyter": {
     "outputs_hidden": true
    }
   },
   "outputs": [
    {
     "name": "stdout",
     "output_type": "stream",
     "text": [
      "`datos` es de tipo: <class 'dict'>\n",
      "nombre = Ana\n",
      "edad = 22\n",
      "telefono = 1544771224\n"
     ]
    }
   ],
   "source": [
    "imprimir_datos(nombre=\"Ana\", edad=22, telefono=\"1544771224\")"
   ]
  },
  {
   "cell_type": "code",
   "execution_count": 71,
   "metadata": {
    "collapsed": true,
    "id": "5s3GlaEn8iJE",
    "jupyter": {
     "outputs_hidden": true
    }
   },
   "outputs": [
    {
     "name": "stdout",
     "output_type": "stream",
     "text": [
      "`datos` es de tipo: <class 'dict'>\n",
      "nombre = Juan\n",
      "segundo_nombre = Antonio\n",
      "apellido = Perez\n"
     ]
    }
   ],
   "source": [
    "imprimir_datos(nombre=\"Juan\", segundo_nombre=\"Antonio\", apellido=\"Perez\")"
   ]
  }
 ],
 "metadata": {
  "colab": {
   "private_outputs": true,
   "provenance": []
  },
  "kernelspec": {
   "display_name": "Python 3 (ipykernel)",
   "language": "python",
   "name": "python3"
  },
  "language_info": {
   "codemirror_mode": {
    "name": "ipython",
    "version": 3
   },
   "file_extension": ".py",
   "mimetype": "text/x-python",
   "name": "python",
   "nbconvert_exporter": "python",
   "pygments_lexer": "ipython3",
   "version": "3.12.3"
  }
 },
 "nbformat": 4,
 "nbformat_minor": 4
}
