{
 "cells": [
  {
   "cell_type": "markdown",
   "id": "93daa914-b52a-44f2-b820-a51afb3a39ca",
   "metadata": {
    "editable": true,
    "slideshow": {
     "slide_type": "fragment"
    },
    "tags": []
   },
   "source": [
    "<center>\n",
    "    \n",
    "# Universidad Nacional de Tres de Febrero  \n",
    "# Estructura de Datos\n",
    "# Presentación de la Materia\n",
    "\n",
    "</center>"
   ]
  },
  {
   "cell_type": "markdown",
   "id": "485d9a6d-645e-41c2-b7bb-88bc1ed7f689",
   "metadata": {
    "editable": true,
    "jp-MarkdownHeadingCollapsed": true,
    "slideshow": {
     "slide_type": "slide"
    },
    "tags": []
   },
   "source": [
    "## Docentes\n",
    "\n",
    "- Martín Albarracín Franzone <<mafranzone@untref.edu.ar>>\n",
    "- Valeria Becker <<vbecker@untref.edu.ar>>\n",
    "- Santiago Rojo <<tiagox@gmail.com>>"
   ]
  },
  {
   "cell_type": "markdown",
   "id": "ce88e36f-2f2e-4ceb-bfdc-de843e9184cc",
   "metadata": {
    "editable": true,
    "slideshow": {
     "slide_type": "slide"
    },
    "tags": []
   },
   "source": [
    "## Herramientas para Cursar\n",
    "\n",
    "- Google Classroom - `xoehksu`\n",
    "- Github\n",
    "- Slack\n",
    "- Python\n",
    "- Jupyter"
   ]
  },
  {
   "cell_type": "markdown",
   "id": "8054d4ca-3c44-4898-9ccd-3ed207acd71b",
   "metadata": {
    "editable": true,
    "slideshow": {
     "slide_type": "slide"
    },
    "tags": []
   },
   "source": [
    "## Modalidad de cursada y regularización\n",
    "\n",
    "- Guías de ejercicios (70% de las guías resueltas para regularizar la materia)\n",
    "- 2 Parciales\n",
    "- Trabajo práctico grupal con presentación oral\n",
    "\n",
    "### Promoción\n",
    "\n",
    "Se puede promocionar la materia (no rendir el final) si se tiene 7 o más en cada uno de los parciales y el TP aprobado\n"
   ]
  },
  {
   "cell_type": "markdown",
   "id": "187a3325-8b2c-473c-8bc8-b2a8e2bb6966",
   "metadata": {
    "editable": true,
    "slideshow": {
     "slide_type": "slide"
    },
    "tags": []
   },
   "source": [
    "# Muchas Gracias!"
   ]
  }
 ],
 "metadata": {
  "kernelspec": {
   "display_name": "Python 3 (ipykernel)",
   "language": "python",
   "name": "python3"
  },
  "language_info": {
   "codemirror_mode": {
    "name": "ipython",
    "version": 3
   },
   "file_extension": ".py",
   "mimetype": "text/x-python",
   "name": "python",
   "nbconvert_exporter": "python",
   "pygments_lexer": "ipython3",
   "version": "3.12.3"
  },
  "rise": {
   "start_slideshow_at": "beginning"
  }
 },
 "nbformat": 4,
 "nbformat_minor": 5
}
