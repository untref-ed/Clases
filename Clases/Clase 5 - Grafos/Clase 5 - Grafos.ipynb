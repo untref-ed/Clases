{
 "cells": [
  {
   "cell_type": "markdown",
   "id": "29f69ba9-36cc-4444-bd10-b24b4ab0d103",
   "metadata": {
    "editable": true,
    "slideshow": {
     "slide_type": "slide"
    },
    "tags": []
   },
   "source": [
    "<p style=\"text-align: center\">\n",
    "    <img src=\"../untref-logo-negro.svg\" style=\"height: 50px;\" />\n",
    "</p>\n",
    "\n",
    "<h3 style=\"text-align: center\">Estructuras de Datos</h3>\n",
    "\n",
    "<h2 style=\"text-align: center\">Clase 5: Grafos</h3>"
   ]
  },
  {
   "cell_type": "markdown",
   "id": "0b8103b4-28ff-4228-8aa8-1a9f516d4e82",
   "metadata": {
    "editable": true,
    "slideshow": {
     "slide_type": "slide"
    },
    "tags": []
   },
   "source": [
    "Un grafo en el contexto de las estructuras de datos es un tipo abstracto de \n",
    "datos (TAD), que consiste en un conjunto de nodos (también llamados vértices) y \n",
    "un conjunto de arcos (aristas) que establecen relaciones entre los nodos.\n",
    "\n",
    "$$\n",
    "G = \\left( V, A \\right)\n",
    "$$\n",
    "\n",
    "<p style=\"text-align: center\">\n",
    "    <img src=\"figuras/grafo-definicion.png\" style=\"width: 500px;\" />\n",
    "</p>"
   ]
  },
  {
   "cell_type": "markdown",
   "id": "03c93a0b-adc4-4816-83b2-53f2c31e1ae7",
   "metadata": {
    "editable": true,
    "slideshow": {
     "slide_type": "subslide"
    },
    "tags": []
   },
   "source": [
    "El **mapa de subtes de Buenos Aires** puede ser representado con un grafo.\n",
    "\n",
    "Las estaciones son los **vértices** y los tramos de vías las **aristas**.\n",
    "\n",
    "<p style=\"text-align: center\">\n",
    "    <img src=\"figuras/subte-mapa.png\" style=\"width: 500px;\" />\n",
    "</p>"
   ]
  },
  {
   "cell_type": "markdown",
   "id": "56de7aa9-4a9a-4e02-b5cf-12169ab3a5b9",
   "metadata": {
    "editable": true,
    "slideshow": {
     "slide_type": "subslide"
    },
    "tags": []
   },
   "source": [
    "El **plan de estudios** de una carrera.\n",
    "\n",
    "Las materias son los **vértices** y las dependencias son las **aristas**.\n",
    "\n",
    "<p style=\"text-align: center\">\n",
    "    <img src=\"figuras/plan-de-estudios.png\" style=\"width: 400px;\" />\n",
    "</p>"
   ]
  },
  {
   "cell_type": "markdown",
   "id": "b0e06ef6-9dbc-4e45-978a-8bad3645377c",
   "metadata": {
    "editable": true,
    "slideshow": {
     "slide_type": "slide"
    },
    "tags": []
   },
   "source": [
    "## Definiciones"
   ]
  },
  {
   "cell_type": "markdown",
   "id": "90a354bb-c06e-436a-9d12-8b6c53248232",
   "metadata": {
    "editable": true,
    "jp-MarkdownHeadingCollapsed": true,
    "slideshow": {
     "slide_type": "subslide"
    },
    "tags": []
   },
   "source": [
    "### Grafo ponderado\n",
    "\n",
    "Un **grafo ponderado**, **valorado** o **con pesos** es un grafo en el que las aristas tienen un valor o **peso** asociado. También puede denominarse **distancia** o **costo**.\n",
    "\n",
    "<p style=\"text-align: center\">\n",
    "    <img src=\"figuras/grafo-con-pesos.png\" style=\"width: 500px;\" />\n",
    "</p>"
   ]
  },
  {
   "cell_type": "markdown",
   "id": "595dab05-d8bb-4e02-85fb-58bcded128f7",
   "metadata": {
    "editable": true,
    "slideshow": {
     "slide_type": "subslide"
    },
    "tags": []
   },
   "source": [
    "### Grafo dirigido vs no dirigido\n",
    "\n",
    "Un **grafo dirigido** o **digrafo** es un tipo de grafo en el cual las aristas tienen un sentido definido, a diferencia del grafo no dirigido, en el cual las aristas son relaciones simétricas y no apuntan en ningún sentido.\n",
    "\n",
    "Graficamente se identidica como una línea con una flecha indicando el sentido en el cual se puede \"viajar\" de un nodo a otro.\n",
    "\n",
    "<p style=\"text-align: center\">\n",
    "    <img src=\"figuras/grafo-dirigido.png\" style=\"width: 500px;\" />\n",
    "</p>"
   ]
  },
  {
   "cell_type": "markdown",
   "id": "1ff7a99e-74fa-4b11-865c-cf3a6ed1d6d8",
   "metadata": {
    "editable": true,
    "slideshow": {
     "slide_type": "subslide"
    },
    "tags": []
   },
   "source": [
    "### Camino\n",
    "\n",
    "Un **camino** es una sucesión de vértices y aristas dentro de un grafo.\n",
    "\n",
    "Dos vértices están conectados o son accesibles si existe un camino que forma una trayectoria para llegar de uno al otro; en caso contrario, los vértices están desconectados o bien son inaccesibles.\n",
    "\n",
    "Un **camino simple** es un camino sin vértices repetidos; de ahora en adelante cuando hablemos de \"camino\" es en referencia un camino simple.\n",
    "\n",
    "<p style=\"text-align: center\">\n",
    "    <img src=\"figuras/grafo-camino.png\" style=\"width: 500px;\" />\n",
    "</p>"
   ]
  },
  {
   "cell_type": "markdown",
   "id": "5f43675b-17b4-413c-97ab-05d6efcc8a29",
   "metadata": {
    "editable": true,
    "slideshow": {
     "slide_type": "subslide"
    },
    "tags": []
   },
   "source": [
    "### Costo de un camino\n",
    "\n",
    "Dos vértices pueden estar conectados por varios caminos. El costo de un camino es la sumatoria del costo de sus aristas (también podemos encontrarlo como la **longitud** del camino).\n",
    "\n",
    "- Para grafos sin pesos: cantidad de aristas que pertenecen al camino.\n",
    "- Para grafos con pesos: suma de los pesos de las aristas que pertenecen al camino.\n",
    "\n",
    "Por ejemplo, del grafo anterior:\n",
    "\n",
    "Podemos decir que existe un **camino** entre $A$ y $E$.\n",
    "\n",
    "Entonces, dados los pesos de cada arista:\n",
    "\n",
    "$$(A, B) = 4; (B, C) = 2; (C, D)= 4; (D, E) = 3$$\n",
    "\n",
    "el costo del camino $A-E$ es:\n",
    "\n",
    "$$4 + 2 + 4 + 3 = 13$$\n"
   ]
  },
  {
   "cell_type": "markdown",
   "id": "6474d524-9f61-4884-85b2-f2d7baf043ec",
   "metadata": {
    "editable": true,
    "slideshow": {
     "slide_type": "subslide"
    },
    "tags": []
   },
   "source": [
    "### Ciclo\n",
    "\n",
    "Es un camino que además es cerrado, es decir que comienza y termina en el mismo nodo.\n",
    "\n",
    "En este caso podemos pensar si ya que el nodo inicial y final son el mismo y se repite, lo que no se pueden repetir son las aristas que confirman el ciclo.\n",
    "\n",
    "<p style=\"text-align: center\">\n",
    "    <img src=\"figuras/grafo-ciclo.png\" style=\"width: 500px;\" />\n",
    "</p>"
   ]
  },
  {
   "cell_type": "markdown",
   "id": "88451461-ec93-4c7c-9089-5bc4c87cf9d3",
   "metadata": {
    "editable": true,
    "slideshow": {
     "slide_type": "subslide"
    },
    "tags": []
   },
   "source": [
    "### Grafo Dirigido Acíclico\n",
    "\n",
    "Un Grafo dirigido acíclico o de sus siglas en inglés _DAG_ es un grado son sus aristas tienen un único sentido y que además no presenta ciclos."
   ]
  },
  {
   "cell_type": "markdown",
   "id": "b1f6b5fe-be27-4c73-81be-0c2be32c9bd7",
   "metadata": {
    "editable": true,
    "raw_mimetype": "",
    "slideshow": {
     "slide_type": "subslide"
    },
    "tags": []
   },
   "source": [
    "### Grado de entrada de un vértice\n",
    "\n",
    "Cantidad de aristas que apuntan a un vértice."
   ]
  },
  {
   "cell_type": "markdown",
   "id": "86e267f1-a47f-4324-8fa9-2a039bd839d5",
   "metadata": {
    "editable": true,
    "slideshow": {
     "slide_type": "slide"
    },
    "tags": []
   },
   "source": [
    "## Representación"
   ]
  },
  {
   "cell_type": "markdown",
   "id": "3263dbc0-a6cc-47b1-bd80-7c582a6c7622",
   "metadata": {
    "editable": true,
    "slideshow": {
     "slide_type": "subslide"
    },
    "tags": []
   },
   "source": [
    "<p style=\"text-align:center;\">\n",
    "    <img src=\"figuras/grafo-teoria.png\" style=\"width:500px;\" />\n",
    "</p>"
   ]
  },
  {
   "cell_type": "markdown",
   "id": "58d115ed-e394-4903-adae-d76069ebefc9",
   "metadata": {
    "editable": true,
    "slideshow": {
     "slide_type": "fragment"
    },
    "tags": []
   },
   "source": [
    "```python\n",
    "V = {\"V0\", \"V1\", \"V2\", \"V3\", \"V4\", \"V5\", \"V6\"}\n",
    "A = {\n",
    "    (\"V0\", \"V1\", 2),  (\"V0\", \"V3\", 1), (\"V1\", \"V3\", 3),\n",
    "    (\"V1\", \"V4\", 10), (\"V3\", \"V4\", 2), (\"V3\", \"V6\", 4),\n",
    "    (\"V3\", \"V5\", 8),  (\"V3\", \"V2\", 2), (\"V2\", \"V0\", 4),\n",
    "    (\"V2\", \"V5\", 5),  (\"V4\", \"V6\", 6), (\"V6\", \"V5\", 1),\n",
    "}\n",
    "```"
   ]
  },
  {
   "cell_type": "markdown",
   "id": "3f8f7bbb-d3ae-4231-9bc4-a670b5f61bef",
   "metadata": {
    "editable": true,
    "slideshow": {
     "slide_type": "subslide"
    },
    "tags": []
   },
   "source": [
    "### Matriz de adyacencias\n",
    "\n",
    "<p style=\"text-align:center;\">\n",
    "    <img src=\"figuras/grafo-teoria.png\" style=\"width:500px;\" />\n",
    "</p>\n",
    "\n",
    "|      | `V0` | `V1` | `V2` | `V3` | `V4` | `V5` | `V6` |\n",
    "|  :-: |  :-: |  :-: |  :-: |  :-: |  :-: |  :-: |  :-: |\n",
    "| `V0` |   -  |   2  |   -  |   1  |   -  |   -  |   -  |\n",
    "| `V1` |   -  |   -  |   -  |   3  |  10  |   -  |   -  |\n",
    "| `V2` |   4  |   -  |   -  |   -  |   -  |   5  |   -  |\n",
    "| `V3` |   -  |   -  |   2  |   -  |   2  |   8  |   4  |\n",
    "| `V4` |   -  |   -  |   -  |   -  |   -  |   -  |   6  |\n",
    "| `V5` |   -  |   -  |   -  |   -  |   -  |   -  |   -  |\n",
    "| `V6` |   -  |   -  |   -  |   -  |   -  |   1  |   -  |"
   ]
  },
  {
   "cell_type": "markdown",
   "id": "bb2f7fc6-c147-4918-a899-2cd3f696a46f",
   "metadata": {
    "editable": true,
    "slideshow": {
     "slide_type": "subslide"
    },
    "tags": []
   },
   "source": [
    "### Lista de adyacencias\n",
    "\n",
    "<p style=\"text-align:center;\">\n",
    "    <img src=\"figuras/grafo-teoria.png\" style=\"width:500px;\" />\n",
    "</p>\n",
    "\n",
    "<p style=\"text-align:center;\">\n",
    "    <img src=\"figuras/grafo-lista-adyacencias.dio.svg\" />\n",
    "</div>"
   ]
  },
  {
   "cell_type": "markdown",
   "id": "3d4144d6-cb2d-4623-a636-35847e500e07",
   "metadata": {
    "editable": true,
    "slideshow": {
     "slide_type": ""
    },
    "tags": []
   },
   "source": [
    "## Algoritmos"
   ]
  },
  {
   "cell_type": "markdown",
   "id": "56344cb8-001f-4abe-9a2e-b11bd941ac0f",
   "metadata": {
    "editable": true,
    "slideshow": {
     "slide_type": ""
    },
    "tags": []
   },
   "source": [
    "### Ordenamiento topológico\n",
    "\n",
    "Sea $G$ un Grafo Dirigido Acíclico (_DAG_), se quiere listar los vértices $V$ en un orden que respete el sentido de las aristas.\n",
    "\n",
    "Para un grafo dado, el ordenamiento topológico no es único.\n",
    "\n",
    "<p style=\"text-align:center;\">\n",
    "    <img src=\"figuras/grafo-teoria.png\" style=\"width:500px;\" />\n",
    "</p>"
   ]
  },
  {
   "cell_type": "markdown",
   "id": "01c21faa-1fca-42eb-8383-d960bf81230c",
   "metadata": {
    "editable": true,
    "slideshow": {
     "slide_type": ""
    },
    "tags": []
   },
   "source": [
    "```\n",
    "Encolar todos los vértices con grado de entrada 0 en una cola q\n",
    "Mientras q no esté vacía:\n",
    "v = q.desencolar(); imprimir v;\n",
    "para todo w adyacente a v:\n",
    "restar 1 en el grado de entrada de w.\n",
    "si grado de entrada de w == 0\n",
    "encolar w en q\n",
    "```"
   ]
  }
 ],
 "metadata": {
  "@deathbeds/ipydrawio": {
   "xml": ""
  },
  "kernelspec": {
   "display_name": "Python 3 (ipykernel)",
   "language": "python",
   "name": "python3"
  },
  "language_info": {
   "codemirror_mode": {
    "name": "ipython",
    "version": 3
   },
   "file_extension": ".py",
   "mimetype": "text/x-python",
   "name": "python",
   "nbconvert_exporter": "python",
   "pygments_lexer": "ipython3",
   "version": "3.12.4"
  }
 },
 "nbformat": 4,
 "nbformat_minor": 5
}
