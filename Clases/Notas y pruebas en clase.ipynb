{
 "cells": [
  {
   "cell_type": "markdown",
   "id": "66dcb950-c346-4af9-8706-7fabd6f203d2",
   "metadata": {
    "editable": true,
    "slideshow": {
     "slide_type": ""
    },
    "tags": []
   },
   "source": [
    "# Notas y pruebas\n",
    "\n",
    "Esta es una colección de pruebas de código para verificar cómo funciona Python."
   ]
  },
  {
   "cell_type": "markdown",
   "id": "7a663ede-df9d-4e66-88d3-07f8eca0ae25",
   "metadata": {
    "editable": true,
    "slideshow": {
     "slide_type": ""
    },
    "tags": []
   },
   "source": [
    "## Cambiando la clase a un objetos en tiempo de ejecución\n",
    "\n",
    "En Python es posible cambiar la clase"
   ]
  },
  {
   "cell_type": "code",
   "execution_count": null,
   "id": "01c2ee34-7a01-4dcc-a93b-15673a508a2d",
   "metadata": {
    "editable": true,
    "slideshow": {
     "slide_type": ""
    },
    "tags": []
   },
   "outputs": [],
   "source": [
    "class A:\n",
    "    def __init__(self, un_atributo):\n",
    "        self.un_atributo = un_atributo\n",
    "\n",
    "    def foo(self):\n",
    "        print(\"Este es un método del clase A\")\n",
    "\n",
    "\n",
    "class B:\n",
    "    def __init__(self, otro_atributo):\n",
    "        self.otro_atributo = otro_atributo\n",
    "\n",
    "    def bar(self):\n",
    "        print(\"Este es un método del clase B\")\n",
    "\n",
    "\n",
    "a = A(42)\n",
    "a.foo()\n",
    "\n",
    "a.__class__ = B\n",
    "a.bar()\n",
    "\n",
    "print(vars(a))\n",
    "\n",
    "try:\n",
    "    a.foo()\n",
    "except AttributeError as err:\n",
    "    print(\"Error:\", err)"
   ]
  }
 ],
 "metadata": {
  "kernelspec": {
   "display_name": "Python 3 (ipykernel)",
   "language": "python",
   "name": "python3"
  },
  "language_info": {
   "codemirror_mode": {
    "name": "ipython",
    "version": 3
   },
   "file_extension": ".py",
   "mimetype": "text/x-python",
   "name": "python",
   "nbconvert_exporter": "python",
   "pygments_lexer": "ipython3",
   "version": "3.12.5"
  }
 },
 "nbformat": 4,
 "nbformat_minor": 5
}
