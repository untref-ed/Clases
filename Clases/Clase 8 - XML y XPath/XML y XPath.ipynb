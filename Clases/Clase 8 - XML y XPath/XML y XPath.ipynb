{
 "cells": [
  {
   "attachments": {},
   "cell_type": "markdown",
   "metadata": {
    "editable": true,
    "id": "4vzOkTwRYIb9",
    "slideshow": {
     "slide_type": ""
    },
    "tags": []
   },
   "source": [
    "<p style=\"text-align: center\">\n",
    "    <img src=\"../../assets/images/untref-logo-negro.svg\" />\n",
    "</p>\n",
    "\n",
    "<h3 style=\"text-align: center\">Estructuras de Datos</h3>\n",
    "\n",
    "<h2 style=\"text-align: center\">Clase 8: Recuperación de la información semi-estructurada ~ XML y XPath</h2>\n"
   ]
  },
  {
   "cell_type": "markdown",
   "metadata": {
    "editable": true,
    "id": "T9lRQOiSTqNX",
    "slideshow": {
     "slide_type": "slide"
    },
    "tags": []
   },
   "source": [
    "## XML (_Extensible Markup Language_)\n",
    "\n",
    "* Es un lenguaje de etiquetas y también un formato de archivo.\n",
    "* Se usa para guardar, transferir y reconstruir información arbitraria.\n",
    "* Es una especificación definida por la W3C.\n",
    "* Define una serie de reglas para codificar documentos en un formato legible tanto por computadoras como por humanos."
   ]
  },
  {
   "cell_type": "markdown",
   "metadata": {
    "editable": true,
    "id": "T9lRQOiSTqNX",
    "slideshow": {
     "slide_type": "subslide"
    },
    "tags": []
   },
   "source": [
    "Un documento XML es un árbol ordenado, donde cada nodo se rotula con dos etiquetas, una de apertura y otra de cierre.\n",
    "\n",
    "Por ejemplo el siguiente fragmento XML estructura un poema:\n",
    "\n",
    "``` xml\n",
    "<poema fecha=\"Abril de 1915\" lugar=\"Granada\">\n",
    "\t<titulo>Alba</titulo>\n",
    "\t<verso>Mi corazón oprimido</verso>\n",
    "\t<verso>siente junto a la alborada</verso>\n",
    "\t<verso>el dolor de sus amores</verso>\n",
    "\t<verso>y el sueño de las distancias. </verso>\n",
    "</poema>\n",
    "```\n",
    "\n",
    "Existen varios sitios en internet que permiten visualizar el árbol asociado. Por ejemplo [https://codebeautify.org/xmlviewer](https://codebeautify.org/xmlviewer?input=%3Cpoema%20fecha=%22Abril%20de%201915%22%20lugar=%22Granada%22%3E%3Ctitulo%3EAlba%3C/titulo%3E%3Cverso%3EMi%20coraz%C3%B3n%20oprimido%3C/verso%3E%3Cverso%3Esiente%20junto%20a%20la%20alborada%3C/verso%3E%3Cverso%3Eel%20dolor%20de%20sus%20amores%3C/verso%3E%3Cverso%3Ey%20el%20sue%C3%B1o%20de%20las%20distancias.%20%3C/verso%3E%3C/poema%3E)"
   ]
  },
  {
   "cell_type": "markdown",
   "metadata": {
    "editable": true,
    "slideshow": {
     "slide_type": "subslide"
    },
    "tags": []
   },
   "source": [
    "### Elementos clave"
   ]
  },
  {
   "cell_type": "markdown",
   "metadata": {
    "editable": true,
    "slideshow": {
     "slide_type": "subslide"
    },
    "tags": []
   },
   "source": [
    "#### Marcado vs. Contenido\n",
    "\n",
    "* El texto en un archivo XML se separan entre _marcado_ y _contenido_.\n",
    "* Generalmente, todo lo que es _marcado_ está encerrado entre `<` y `>`, o comienzan con `&` y terminan con `;`\n",
    "* Todo lo que no es _marcado_ es _contenido_.\n",
    "* A excepción de la sección `CDATA`, donde se encierra _contenido_ entre `<![CDATA[` y `]]>`.\n",
    "* El espacio en blanco entre _marcado_ es ignorado."
   ]
  },
  {
   "cell_type": "markdown",
   "metadata": {
    "editable": true,
    "slideshow": {
     "slide_type": "subslide"
    },
    "tags": []
   },
   "source": [
    "#### Etiqueta\n",
    "\n",
    "Una _etiqueta_ es una estructura de marcado que comienza con `<` y termina con `>`.\n",
    "\n",
    "Hay 3 tipos:\n",
    "\n",
    "* Etiqueta de inicio: `<etiqueta>`\n",
    "* Etiqueta de cierre: `</etiqueta>`\n",
    "* Etiqueta sin elementos: `<etiqueta />`"
   ]
  },
  {
   "cell_type": "markdown",
   "metadata": {
    "editable": true,
    "slideshow": {
     "slide_type": "subslide"
    },
    "tags": []
   },
   "source": [
    "#### Elemento\n",
    "\n",
    "Un _elemento_ es un componente lógico de un documento que comienza con una etiqueta de inicio y termina con una etiqueta de cierre correspondiente o que consta únicamente de una etiqueta sin elementos.\n",
    "\n",
    "Lo que esté entre las etiquetas de inicio y cierre, son el contenido del _elemento_ y puede estar compuesto de otros elementos.\n",
    "\n",
    "Los elementos dentro de elementos, se denominan los _hijos_ del elemento _padre_."
   ]
  },
  {
   "cell_type": "markdown",
   "metadata": {
    "editable": true,
    "slideshow": {
     "slide_type": "subslide"
    },
    "tags": []
   },
   "source": [
    "Un ejemplo es:\n",
    "\n",
    "```xml\n",
    "<greeting>Hello, world!</greeting>\n",
    "```\n",
    "\n",
    "Otro es:\n",
    "\n",
    "```xml\n",
    "<line-break />\n",
    "```"
   ]
  },
  {
   "cell_type": "markdown",
   "metadata": {
    "editable": true,
    "slideshow": {
     "slide_type": "subslide"
    },
    "tags": []
   },
   "source": [
    "#### Atributo\n",
    "\n",
    "Un _atributo_ es una estructura de marcado que consiste en un par nombre-valor que existe dentro de una etiqueta de inicio o una etiqueta de elemento vacío.\n",
    "\n",
    "Un ejemplo es:\n",
    "\n",
    "```xml\n",
    "<img src=\"messi.jpg\" alt=\"Messi\" />\n",
    "```\n",
    "\n",
    "donde los nombres de los atributos son `src` y `alt`, y sus valores son `messi.jpg` y `Messi` respectivamente.\n",
    "\n",
    "Otro ejemplo es:\n",
    "\n",
    "```xml\n",
    "<step number=\"3\">Connect A to B.</step>\n",
    "```\n",
    "\n",
    "donde el nombre del atributo es `number` y su valor es `3`."
   ]
  },
  {
   "cell_type": "markdown",
   "metadata": {
    "editable": true,
    "slideshow": {
     "slide_type": "subslide"
    },
    "tags": []
   },
   "source": [
    "* Un atributo solo puede tener un único valor.\n",
    "* Cada atributo puede aparecer como máximo una vez en cada elemento.\n",
    "* Si se necesita que un atributo almacene una lista, esos valores se tienen que serializar."
   ]
  },
  {
   "cell_type": "markdown",
   "metadata": {},
   "source": [
    "#### Caracteres especiales\n",
    "\n",
    "* XML soporta todos los caracteres Unicode (`UTF-8`), excepto el caracter nulo (`0x0`).\n",
    "* Los caracteres `<` y `&` son marcadores de sintaxis claves.\n",
    "    * Esos caracteres no puede aparecer nunca como contenido, excepto en bloques `CDATA`.\n",
    "    * Para escapar estos caracteres debemos utilizar las siguientes representaciones:\n",
    "        * `&lt;` representa `<`\n",
    "        * `&gt;` representa `>`\n",
    "        * `&amp;` representa `&`\n",
    "        * `&apos;` representa `'`\n",
    "        * `&quot;` representa `\"`"
   ]
  },
  {
   "cell_type": "markdown",
   "metadata": {
    "editable": true,
    "id": "GyHeWCRif4yc",
    "slideshow": {
     "slide_type": "subslide"
    },
    "tags": []
   },
   "source": [
    "### Ejemplos de uso de documentos XML\n",
    "\n",
    "* Catálogos de bibliotecas\n",
    "* Información sobre patentes\n",
    "* Procesadores de texto\n",
    "* Noticias (RSS)"
   ]
  },
  {
   "cell_type": "markdown",
   "metadata": {
    "editable": true,
    "id": "GyHeWCRif4yc",
    "slideshow": {
     "slide_type": "subslide"
    },
    "tags": []
   },
   "source": [
    "#### RSS\n",
    "\n",
    "En general las agencias de noticias y los diarios acostumbran publicar resumenes de noticias en formato [RSS](https://es.wikipedia.org/wiki/RSS), un formato XML específico que se utiliza para difundir información actualizada frecuentemente a usuarios que se han suscrito a la fuente de contenidos.\n",
    "\n",
    "Por ejemplo podemos consultar las últimas noticias del blog de Python:\n",
    "\n",
    "https://blog.python.org/feeds/posts/default?alt=rss"
   ]
  },
  {
   "cell_type": "code",
   "execution_count": null,
   "metadata": {
    "editable": true,
    "slideshow": {
     "slide_type": ""
    },
    "tags": []
   },
   "outputs": [],
   "source": [
    "from urllib.request import urlopen\n",
    "from xml.etree import ElementTree\n",
    "\n",
    "raw_xml = urlopen(\"https://blog.python.org/feeds/posts/default?alt=rss\").read().decode()\n",
    "xml = ElementTree.XML(raw_xml)\n",
    "ElementTree.indent(xml)\n",
    "print(ElementTree.tostring(xml, encoding=\"unicode\"))"
   ]
  },
  {
   "cell_type": "markdown",
   "metadata": {
    "id": "85PfzqaNf4yi"
   },
   "source": [
    "### XPath: XML Path Language\n",
    "Estándar para navegar documentos XML que permite describir caminos en un árbol **XML**. Evaluar una expresión XPath es buscar si hay nodos en el documento que se ajustan al recorrido definido en la expresión.\n",
    "\n",
    "El resultado de la evaluación son todos los nodos que se ajustan a la expresión.\n",
    "\n",
    "Para poder evaluar una expresión XPath, el documento debe estar bien formado.\n",
    "\n",
    "Tutorial oficial de XPath: https://www.w3schools.com/xml/xpath_intro.asp\n",
    "\n",
    "Vamos a usar el siguiente fragmento para los ejemplos:\n",
    "\n",
    "``` xml\n",
    "<?xml version=\"1.0\" encoding=\"UTF-8\"?>\n",
    "<biblioteca>\n",
    "\t<libro>\n",
    "\t\t<titulo>La vida está en otra parte</titulo>\n",
    "\t\t<autor>Milan Kundera</autor>\n",
    "\t\t<fechaPublicacion año=\"1973\"/>\n",
    "        <precio>305.50</precio>\n",
    "\t</libro>\n",
    "\t<libro>\n",
    "\t\t<titulo>Pantaleón y las visitadoras</titulo>\n",
    "\t\t<autor fechaNacimiento=\"28/03/1936\">Mario Vargas Llosa</autor>\n",
    "\t\t<fechaPublicacion año=\"1973\"/>\n",
    "        <precio>214.48</precio>\n",
    "\t</libro>\n",
    "\t<libro>\n",
    "\t\t<titulo>Conversación en la catedral</titulo>\n",
    "\t\t<autor fechaNacimiento=\"28/03/1936\">Mario Vargas Llosa</autor>\n",
    "\t\t<fechaPublicacion año=\"1969\"/>\n",
    "        <precio>541.78</precio>\n",
    "\t</libro>\n",
    "</biblioteca>\n",
    "```\n",
    "\n",
    "\n",
    "#### Nodos XPath\n",
    "\n",
    "Hay 7 clases de nodos: elemento, atributo, texto, espacio de nombre, instrucción, comentario y documentación.\n",
    "\n",
    "\n",
    "- elemento: un elemento del árbol\n",
    "``` xml\n",
    "<titulo>La vida está en otra parte</titulo> \n",
    "```\n",
    "\n",
    "- nodo raíz: \n",
    "``` xml\n",
    "<biblioteca>\n",
    "```\n",
    "\n",
    "\n",
    "- atributo\n",
    "``` xml\n",
    "fechaNacimiento=\"28/03/1936\"\n",
    "```\n",
    "\n",
    "\n",
    "- texto\n",
    "\n",
    "Pantaleón y las visitadoras\n",
    "\n",
    "### Expresiones XPath para seleccionar nodos\n",
    "\n",
    "| Expresión | Descripción |\n",
    "| :- | :- |\n",
    "| nombre_nodo | Permite seleccionar un nodo a partir de su nombre\n",
    "| / | Si está al principio de la expresión, indica el nodo raíz, si no, indica \"hijo\"|\n",
    "| // | Camino. Permite seleccionar nodos en un camino descendiente a partir de la posición actual |\n",
    "| . | Nodo actual |\n",
    "| .. | Padre del nodo actual |\n",
    "| @ | Atributo |\n",
    "\n",
    "\n",
    "Existen herramientas online para probar, por ejemplo https://codebeautify.org/Xpath-Tester\n",
    "\n",
    "### Predicados\n",
    "Se usan para encontrar nodos específicos. Siempre van entre corchetes\n",
    "\n",
    "| Expresión | Resultado |\n",
    "| :- | :- |\n",
    "| /biblioteca/libro[1] | Selecciona el primer nodo libro, hijo de biblioteca |\n",
    "| /biblioteca/libro[last()] | Selecciona el último nodo libro, hijo de biblioteca |\n",
    "| /biblioteca/libro[last() - 1] | Selecciona el ante último nodo libro, hijo de biblioteca | \n",
    "| /biblioteca/libro[position() < 3] | Selecciona los dos primeros nodos libro, hijo de biblioteca |\n",
    "| //autor[@fechaNacimiento] | Selecciona todos los nodos autor, que tengan un atributo fechaNacimiento |\n",
    "| //autor[@fechaNacimiento=\"28/03/1936\"] | Selecciona todos los nodos autor, que tengan un atributo fechaNacimiento con un valor específico |\n",
    "| //autor[@fechaNacimiento] | Selecciona todos los nodos autor, que tengan un atributo fechaNacimiento |\n",
    "| /biblioteca//libro[precio < 350] | Selecciona todos los nodos libros, que tengan como hijo directo un elemento precio con valor menor a 350 |\n",
    "| /biblioteca//libro[precio < 350]/titulo | Selecciona todos los nodos titulo, hijos de nodos libros que tengan como hijo directo un elemento precio con valor menor a 350 |\n",
    "\n",
    "### Selectores y comodines\n",
    "\n",
    "| Expresión | Resultado |\n",
    "| :- | :- |\n",
    "| /biblioteca/* | Selecciona todos los elementos hijos directos de biblioteca |\n",
    "| /biblioteca//* | Selecciona todos los elementos descendientes de biblioteca |\n",
    "| //autor[@\\*] | Selecciona todos los elementos autor que tengan algún atributo |\n",
    "| node() | Selecciona todos los elementos autor que tengan algún atributo |\n",
    "| //titulo/text() | Selecciona el texto (no el nodo completo) de los títulos |\n",
    "\n",
    "\n",
    "### Selección de varios caminos\n",
    "\n",
    "| Expresión | Resultado |\n",
    "| :- | :- |\n",
    "| //libro/titulo \\| //libro/precio | Selecciona todos los nodos titulo y todos los nodos precios hijos de libro |\n",
    "\n",
    "### Operadores\n",
    "\n",
    "| Operador | Descripción | Ejemplo\n",
    "| :- | :- | :- |  \n",
    "| \\| | Union de dos conjuntos de nodos | //autor \\| //precio |\n",
    "| + | Suma | 6 + 4\n",
    "| - | Sustracción | 6 - 4\n",
    "| * | Multiplicación | 6 * 4\n",
    "| div | División | 8 div 4\n",
    "| = | Igualdad | precio = 541.78\n",
    "| != | Distinto | precio != 541.78\n",
    "| < | Menor estricto | precio < 500\n",
    "| <= | Menor o igual | precio <= 541.78\n",
    "| > | Mayor estricto | precio > 500\n",
    "| <= | Mayor o igual | precio >= 541.78\n",
    "| or | Disyunción | precio = 541.78 or precio = 214.48\n",
    "| and | Conjunción | precio > 300 and precio <= 541.78\n",
    "| mod | Módulo (resto de la división entera) | 5 mod 2\n",
    "\n"
   ]
  },
  {
   "cell_type": "markdown",
   "metadata": {
    "id": "akq2Iwryf4ym"
   },
   "source": [
    "### XML y Python\n",
    "\n",
    "Vamos a usar lxml\n",
    "> pip install lxml\n"
   ]
  },
  {
   "cell_type": "code",
   "execution_count": null,
   "metadata": {
    "id": "Fdq4710zf4zJ"
   },
   "outputs": [],
   "source": [
    "from lxml import etree\n",
    "\n",
    "tree = etree.parse(\"archivo.xml\")  # archivo.xml contiene el ejemplo de la biblioteca\n",
    "\n",
    "root = tree.getroot()  # Devuelve la raíz del árbol XML\n",
    "\n",
    "print(len(root))  # los elementos del árbol son listas\n",
    "\n",
    "for child in root:\n",
    "    print(child)\n",
    "\n",
    "for child in root:\n",
    "    print(child.tag)  # con `.tag` se accede a la etiqueta"
   ]
  },
  {
   "cell_type": "code",
   "execution_count": null,
   "metadata": {
    "id": "0pt51x1XzfS5"
   },
   "outputs": [],
   "source": [
    "print(\"Todos los autores\")\n",
    "b1 = tree.xpath(\"//autor\")\n",
    "for autor in b1:\n",
    "    print(autor.text)\n",
    "\n",
    "print()\n",
    "print(\"Todos los libros que cuestan entre 300 y 541.78 inclusive\")\n",
    "b2 = tree.xpath(\"//libro[precio > 300 and precio <= 541.78]/titulo\")\n",
    "for libro in b2:\n",
    "    print(libro.text)"
   ]
  },
  {
   "cell_type": "code",
   "execution_count": null,
   "metadata": {},
   "outputs": [],
   "source": []
  }
 ],
 "metadata": {
  "colab": {
   "collapsed_sections": [],
   "name": "Clase_6.ipynb",
   "provenance": []
  },
  "kernelspec": {
   "display_name": "Python 3 (ipykernel)",
   "language": "python",
   "name": "python3"
  },
  "language_info": {
   "codemirror_mode": {
    "name": "ipython",
    "version": 3
   },
   "file_extension": ".py",
   "mimetype": "text/x-python",
   "name": "python",
   "nbconvert_exporter": "python",
   "pygments_lexer": "ipython3",
   "version": "3.12.5"
  }
 },
 "nbformat": 4,
 "nbformat_minor": 4
}
