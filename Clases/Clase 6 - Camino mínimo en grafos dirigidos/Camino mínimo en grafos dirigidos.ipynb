{
 "cells": [
  {
   "cell_type": "markdown",
   "id": "29f69ba9-36cc-4444-bd10-b24b4ab0d103",
   "metadata": {
    "editable": true,
    "slideshow": {
     "slide_type": "slide"
    },
    "tags": []
   },
   "source": [
    "<p style=\"text-align: center\">\n",
    "    <img src=\"../../assets/images/untref-logo-negro.svg\" style=\"height: 50px;\" />\n",
    "</p>\n",
    "\n",
    "<h3 style=\"text-align: center\">Estructuras de Datos</h3>\n",
    "\n",
    "<h2 style=\"text-align: center\">Clase 6: Camino mínimo en grafos dirigidos</h3>"
   ]
  },
  {
   "cell_type": "markdown",
   "id": "d93a3bce-81cb-426e-9adf-8b2e5357c20b",
   "metadata": {},
   "source": [
    "## Camino Mínimo\n",
    "\n",
    "Dado un grafo dirigido encontrar el camino mínimo desde un vértice dado a todos los demás vértices del grafo.\n",
    "\n",
    "### Métodos\n",
    "\n",
    "* Grafo dirigido sin pesos: Se resuelve con un recorrido **BFS**.\n",
    "* Grafo dirigido con pesos no negativos: **Algoritmo de Dijkstra**.\n",
    "* Grafo dirigido con pesos negativos: **Algoritmo de Bellman-Ford**\n"
   ]
  },
  {
   "cell_type": "markdown",
   "id": "32ec7abc-f1a4-4607-a83c-d434a38497c6",
   "metadata": {},
   "source": [
    "### Algoritmo de Dijkstra\n",
    "\n",
    "Encontrar el camino mínimo desde $A$ hacia todos los demás vértices del grafo:\n",
    "\n",
    "<p style=\"text-align: center\">\n",
    "    <img src=\"figuras/grafo-dijkstra.png\" style=\"width: 500px;\" />\n",
    "</p>\n",
    "\n",
    "|Referencia|Descripción|\n",
    "|--:|---|\n",
    "|`s`| Nodo inicial|\n",
    "|`distancia[v]`|Distancia desde `s` hasta el nodo `v`|\n",
    "|`previo[v]`|Empezando por `s`, guarda cual es el nodo anterior a `v` en el camino `s-v`|\n",
    "|`visitado[v]`|Verdadero si `v` ya fué visitado|"
   ]
  },
  {
   "cell_type": "raw",
   "id": "244d035f-e05e-436c-b7d8-ad05840c1c8a",
   "metadata": {},
   "source": [
    "DIJKSTRA (G: DiGrafo, s: Vertice)\n",
    "    pq <- Cola de prioridad de mínimo vacía\n",
    "\n",
    "    PARA CADA v EN G.nodos\n",
    "        distancia[v] = ∞\n",
    "        previo[v] = None\n",
    "        visitado[v] = False\n",
    "\n",
    "    distancia[s] = 0\n",
    "    pq.encolar(s, 0)\n",
    "\n",
    "    MIENTRAS NO pq.est_vacia:\n",
    "        (v, distancia[v]) = pq.desencolar()\n",
    "\n",
    "        visitado[v] = True\n",
    "\n",
    "        PARA CADA w EN v.nodos_adyacente:\n",
    "            SI w no está visitado Y (distancia[v] + peso(v, w)) < distancia[w]:\n",
    "                distancia[w] = distancia[v] + peso(v, w)\n",
    "                previo[w] = v\n",
    "                pq.encolar(w, distancia[w])"
   ]
  },
  {
   "cell_type": "markdown",
   "id": "ce832c10-fbe0-4096-be0a-95a946d2883e",
   "metadata": {},
   "source": [
    "#### Ejemplo"
   ]
  },
  {
   "cell_type": "code",
   "execution_count": null,
   "id": "f14a613f-a74e-4077-a4af-b451ddb8238d",
   "metadata": {
    "jupyter": {
     "source_hidden": true
    }
   },
   "outputs": [],
   "source": [
    "from edd.grafo import DiGrafo\n",
    "\n",
    "G = DiGrafo()\n",
    "G.agregar_arista(\"A\", \"B\", 4)\n",
    "G.agregar_arista(\"A\", \"C\", 1)\n",
    "G.agregar_arista(\"B\", \"E\", 3)\n",
    "G.agregar_arista(\"C\", \"B\", 2)\n",
    "G.agregar_arista(\"C\", \"D\", 2)\n",
    "G.agregar_arista(\"D\", \"E\", 3)\n",
    "\n",
    "G.draw()"
   ]
  },
  {
   "cell_type": "code",
   "execution_count": null,
   "id": "4be5cdfe-4148-47e0-82dd-d1b8c887ec26",
   "metadata": {},
   "outputs": [],
   "source": [
    "from math import inf\n",
    "\n",
    "from edd.coladeprioridad import ColaDePrioridad\n",
    "from edd.grafo import Vertice\n",
    "\n",
    "\n",
    "def dijkstra_por_pasos(self, s: Vertice):\n",
    "    pq = ColaDePrioridad()\n",
    "\n",
    "    distancia = {v: inf for v in self.vertices}\n",
    "    previo = {v: None for v in self.vertices}\n",
    "    visitado = {v: False for v in self.vertices}\n",
    "    aristas = []\n",
    "\n",
    "    distancia[s] = 0\n",
    "    pq.encolar(s, distancia[s])\n",
    "\n",
    "    ### <IGNORAR>\n",
    "    yield {\n",
    "        \"msj\": f\"Encolamos {s.id} como nodo inicial\",\n",
    "        \"cola\": pq,\n",
    "        \"distancia\": distancia,\n",
    "        \"previo\": previo,\n",
    "        \"visitado\": visitado,\n",
    "        \"aristas_recorridas\": aristas,\n",
    "        \"v\": None,\n",
    "        \"w\": None,\n",
    "    }\n",
    "    ### </IGNORAR>\n",
    "\n",
    "    while not pq.esta_vacia():\n",
    "        v, _ = pq.desencolar()\n",
    "\n",
    "        visitado[v] = True\n",
    "\n",
    "        ### <IGNORAR>\n",
    "        yield {\n",
    "            \"msj\": f\"Desencolamos y visitamos {v.id}\",\n",
    "            \"cola\": pq,\n",
    "            \"distancia\": distancia,\n",
    "            \"previo\": previo,\n",
    "            \"visitado\": visitado,\n",
    "            \"aristas_recorridas\": aristas,\n",
    "            \"v\": v,\n",
    "            \"w\": None,\n",
    "        }\n",
    "        ### </IGNORAR>\n",
    "\n",
    "        for a in v.aristas:\n",
    "            aristas.append((a.origen.id, a.destino.id))\n",
    "            w = a.destino\n",
    "\n",
    "            if not visitado[w] and distancia[v] + a.peso < distancia[w]:\n",
    "                distancia[w] = distancia[v] + a.peso\n",
    "                previo[w] = v\n",
    "                pq.encolar(w, distancia[w])\n",
    "                msj = f\"Encolamos {w.id} con la nueva distancia {distancia[w]}\"\n",
    "            else:\n",
    "                msj = f\"No se mejoró la distancia a {w.id}\"\n",
    "\n",
    "            ### <IGNORAR>\n",
    "            yield {\n",
    "                \"msj\": msj,\n",
    "                \"cola\": pq,\n",
    "                \"distancia\": distancia,\n",
    "                \"previo\": previo,\n",
    "                \"visitado\": visitado,\n",
    "                \"aristas_recorridas\": aristas,\n",
    "                \"v\": v,\n",
    "                \"w\": w,\n",
    "            }\n",
    "            ### </IGNORAR>\n",
    "\n",
    "\n",
    "# Hacemos \"monkey patching\" del método que acabamos de implementar.\n",
    "DiGrafo.dijkstra_por_pasos = dijkstra_por_pasos"
   ]
  },
  {
   "cell_type": "code",
   "execution_count": null,
   "id": "4941fdd5-8ef0-49c0-9c0c-bd3626281602",
   "metadata": {},
   "outputs": [],
   "source": [
    "# Ejecutar esto una vez para inicializar el Orden Topológico paso a paso.\n",
    "pasos = G.dijkstra_por_pasos(G[\"A\"])"
   ]
  },
  {
   "cell_type": "code",
   "execution_count": null,
   "id": "121f7371-0c1d-4921-9599-4114fd2f775f",
   "metadata": {
    "jupyter": {
     "source_hidden": true
    }
   },
   "outputs": [],
   "source": [
    "# Cada vez que se ejecute esta celda, se mostrará una iteración del algoritmo de Dijkstra.\n",
    "from edd.jp import build_html_table, render_html\n",
    "\n",
    "try:\n",
    "    estado = next(pasos)\n",
    "except StopIteration:\n",
    "    print(\"~ Fin ~\\n\\n\")\n",
    "finally:\n",
    "    headers = [\"Vertice\", \"Distancia\", \"Previo\", \"Visitado\"]\n",
    "    rows = [\n",
    "        [\n",
    "            v.id,\n",
    "            estado[\"distancia\"][v],\n",
    "            estado[\"previo\"][v].id if estado[\"previo\"][v] else \"-\",\n",
    "            \"Si\" if estado[\"visitado\"][v] else \"No\",\n",
    "        ]\n",
    "        for v in G.vertices\n",
    "    ]\n",
    "    print(f\">>> {estado['msj']}\\n\")\n",
    "    print(f\"pq = {estado['cola']}\\n\")\n",
    "    print(f\"v = {estado['v'].id if estado['v'] else ''}\")\n",
    "    print(f\"w = {estado['w'].id if estado['w'] else ''}\")\n",
    "    render_html(build_html_table(headers, rows))\n",
    "\n",
    "    G.draw(\n",
    "        highlight_edges=estado[\"aristas_recorridas\"],\n",
    "        highlight_nodes=[v.id for v, visitado in estado[\"visitado\"].items() if visitado],\n",
    "    )"
   ]
  },
  {
   "cell_type": "code",
   "execution_count": null,
   "id": "3f08c165-cef2-431c-b38a-d6ecb0ee9686",
   "metadata": {},
   "outputs": [],
   "source": []
  }
 ],
 "metadata": {
  "@deathbeds/ipydrawio": {
   "xml": ""
  },
  "kernelspec": {
   "display_name": "Python 3 (ipykernel)",
   "language": "python",
   "name": "python3"
  },
  "language_info": {
   "codemirror_mode": {
    "name": "ipython",
    "version": 3
   },
   "file_extension": ".py",
   "mimetype": "text/x-python",
   "name": "python",
   "nbconvert_exporter": "python",
   "pygments_lexer": "ipython3",
   "version": "3.12.5"
  }
 },
 "nbformat": 4,
 "nbformat_minor": 5
}
